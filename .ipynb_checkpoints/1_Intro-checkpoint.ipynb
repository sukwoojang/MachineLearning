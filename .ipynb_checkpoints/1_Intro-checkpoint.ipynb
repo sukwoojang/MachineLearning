{
 "cells": [
  {
   "cell_type": "markdown",
   "metadata": {},
   "source": [
    "## 1.2 머신러닝의 세 가지 종류\n",
    "\n",
    "* 지도 학습(supervised learning)\n",
    "    * 레이블된 데이터\n",
    "    * 직접 피드백\n",
    "    * 출력 및 미래예측\n",
    "    <br><br>\n",
    "* 비지도 학습(unsupervised learning)\n",
    "    * 레이블 및 타깃 없음\n",
    "    * 피드백 없음\n",
    "    * 데이터에서 숨겨진 구조 찾기<br><br>\n",
    "* 강화 학습(reinforcement learning)\n",
    "    * 결정 과정\n",
    "    * 보상 시스템\n",
    "    * 연속된 행동에서 학습<"
   ]
  },
  {
   "cell_type": "markdown",
   "metadata": {},
   "source": [
    "### 1.2.1 지도 학습(supervised learning)\n",
    "* 분류 : 클래스 레이블 예측 (이산적)\n",
    "    * 이진분류 : 두 개의 클래스 레이블 (ex. 남여 , True or False)\n",
    "    * 다중분류 : 세 개 이상의 클래스 레이블 (ex. Mnist숫자분류)\n",
    "        * 일반적으로 클래스를 구분하는 초평면으로 결정 경계 구성<br><br>  \n",
    "* 회귀 : 연속적인 출력 값 예측 (예측변수 x와 출력변수 y에서 두 변수와의 관계를 알아내는 것)\n",
    "    * 선형회귀 : (ex. y = Wx + b, 샘플과 직선 사이 거리가 최소가 되는 직선을 찾는 것)\n",
    "        * Cost함수 $ (H(x) - y)^2 $ 최소화\n",
    "    \n",
    "### 1.2.2 강화 학습(reinforcement learning)\n",
    "* 시스템(agent)성능을 향상하는 것이 목적, 환경과 상호작용하여 보상함수를 최대화되는 일련의 행동을 강화 학습으로 학습하는 것.\n",
    "\n",
    "### 1.2.3 비지도 학습(unsupervised learning)\n",
    "* 군집 : 서브그룹 찾기 (clustering, 유사한 특징을 가지고 있는 데이터 집단끼리 그룹을 형성하는 것)<br><br>\n",
    "* 차원축소 : 데이터 압축 (일반적으로 전처리 단계에서 적용, 단 예측성능을 감소시킬 수 있다)"
   ]
  },
  {
   "cell_type": "markdown",
   "metadata": {},
   "source": [
    "## 1.4 머신러닝 작업흐름\n",
    "* 전처리 : 데이터 형태 갖추기\n",
    "    * 차원축소\n",
    "    * scaling\n",
    "    * normalization\n",
    "* 예측 모델 훈련과 선택\n",
    "    * 정확도 : 정확하게 분류된 샘플 비율 (100 개중 30개 정답 -> 정확도 : 30%)\n",
    "    "
   ]
  },
  {
   "cell_type": "code",
   "execution_count": null,
   "metadata": {},
   "outputs": [],
   "source": []
  }
 ],
 "metadata": {
  "kernelspec": {
   "display_name": "Python 3",
   "language": "python",
   "name": "python3"
  },
  "language_info": {
   "codemirror_mode": {
    "name": "ipython",
    "version": 3
   },
   "file_extension": ".py",
   "mimetype": "text/x-python",
   "name": "python",
   "nbconvert_exporter": "python",
   "pygments_lexer": "ipython3",
   "version": "3.7.1"
  }
 },
 "nbformat": 4,
 "nbformat_minor": 2
}
