{
 "cells": [
  {
   "cell_type": "markdown",
   "metadata": {},
   "source": [
    "# 퍼셉트론 학습 알고리즘 \n",
    "\n",
    "## 1. 개요\n",
    "퍼셉트론은 1957년 코넬 항공 연구소(Cornell Aeronautical Lab)의 프랑크 로젠블라트(Frank Rosenblatt)에 의해 고안된 인공신경망이다. 로젠블라트에 의해 제안된 것은 가장 간단한 형태의 단층 퍼셉트론(single-layer perceptron)으로 입력 벡터를 두 부류로 구분하는 선형분류기이다.\n",
    "\n",
    "\n",
    "\n",
    "## 2. 용어 정의\n",
    "* 임계치(threshold): 어떠한 값이 활성화되기 위한 최소값을 임계치라고 한다.\n",
    "\n",
    "* 가중치(weight): 퍼셉트론의 학습 목표는 학습 벡터를 두 부류로 선형 분류하기 위한 선형 경계를 찾는 것이다. 가중치는 이러한 선형 경계의 방향성 또는 형태를 나타내는 값이다.\n",
    "\n",
    "* 바이어스(bias): 선형 경계의 절편을 나타내는 값으로써, 직선의 경우는 y절편을 나타낸다.\n",
    "\n",
    "* net값: 입력값과 가중치의 곱을 모두 합한 값으로써, 기하학적으로 해석하면 선형 경계의 방정식과 같다.\n",
    "\n",
    "* 활성홤수(activation function): 뉴런에서 계산된 net값이 임계치보다 크면 1을 출력하고, 임계치보다 작은 경우에는 0을 출력하는 함수이다. 이 정의는 단층 퍼셉트론에서만 유효하며, 다층 퍼셉트론에서는 다른 형태의 활성함수를 이용한다.\n",
    "\n",
    "* 뉴런(neuron): 인공신경망을 구성하는 가장 작은 요소로써, net값이 임계치보다 크면 활성화되면서 1을 출력하고, 반대의 경우에는 비활성화되면서 0을 출력한다.\n",
    "\n",
    "\n",
    "\n",
    "![텍스트](https://img1.daumcdn.net/thumb/R1280x0/?scode=mtistory2&fname=http%3A%2F%2Fcfile10.uf.tistory.com%2Fimage%2F261AC64E56C2D0E7241637)\n",
    "\n",
    "[그림 1] 뉴런의 구조\n",
    "\n",
    "\n",
    "\n",
    "위의 [그림 1]은 뉴런의 구조를 나타낸다. 뉴런에서 x는 입력 벡터의 값을 나타내고 w는 가중치를 나타낸다. 바이어스 입력값은 x0, 바이어스 기울기는 w0로 표기했으며, f는 활성함수를 타나낸다.\n",
    "\n",
    "## 3. 연산 정의\n",
    "1) 뉴런의 net값 계산\n",
    "\n",
    "뉴런의 net값은 아래와 같이 계산된다. 아래의 식에서 N은 입력 벡터의 크기를 나타낸다.\n",
    "\n",
    "$$ net = \\sum\\limits_{i}^{N}{w_ix_i} + w_0x_0$$\n",
    "\n",
    "\n",
    "\n",
    "2) 활성함수 정의\n",
    "\n",
    "활성함수는 net값이 임계치보다 크면 뉴런의 출력값을 활성화하고, 그렇지 않으면 뉴런의 출력값을 비활성화하는 함수이다. 퍼셉트론에서 사용하는 가장 기본적인 활성함수는 계단 함수(step function)를 이용한다. 퍼셉트론에서 이용하는 계단 함수의 정의는 아래의 식과 같다. 활성함수로 계단함수를 이용할 때는 뉴런의 출력값은 0과 1만을 갖기 때문에 목표값과 출력값의 차이라는 개념보다는 목표값과 출력값의 일치, 불일치라는 개념을 이용한다.\n",
    "\n",
    "\n",
    "$$ f(net) = \\begin{align}1, net >= threshold\\\\0, net < threshold \\end{align} $$\n",
    "\n",
    "\n",
    "\n",
    "3) 학습 연산(Learning rule) 정의\n",
    "\n",
    "출력층 뉴런의 출력값과 목표값의 차이가 허용오차보다 크면 출력층 뉴런의 가중치를 조정해야한다. 가중치를 조정하는 식은 아래의 식과 같다.\n",
    "\n",
    "\n",
    "$$ w_i = w_i + \\eta x_i(t - f(net))$$\n",
    "\n",
    "$$ \\eta = learning rate $$\n",
    "$$ t = target value $$\n",
    "\n",
    "\n",
    "\n",
    "\n",
    "\n",
    "\n"
   ]
  },
  {
   "cell_type": "code",
   "execution_count": 1,
   "metadata": {},
   "outputs": [],
   "source": [
    "# perceptron 구현\n",
    "\n",
    "import numpy as np\n",
    "import matplotlib.pyplot as plt\n",
    "\n",
    "\n",
    "class Perceptron(object):\n",
    "    \n",
    "    def __init__(self, eta = 0.01, n_iter = 50, random_state= 1):\n",
    "        self.eta = eta # 학습률\n",
    "        self.n_iter = n_iter # 훈련 데이터셋 반복 횟수\n",
    "        self.random_state = random_state # 난수 발생 시드\n",
    "        \n",
    "    def fit(self, X, y):\n",
    "        \n",
    "        rgen = np.random.RandomState(self.random_state)\n",
    "        self.w_ = rgen.normal(loc = 0.0, scale = 0.01, size = 1 + X.shape[1])\n",
    "        # 랜덤시드 1, 평균 0, 표준편차 0.01 정규분포에서 샘플 추출\n",
    "        # 가중치벡터를 0 으로 초기화 하지 않는 이유는 eta에 의해 방향 영향을 받기 위해서\n",
    "        self.errors_ = [] \n",
    "        # 횟수에 따른 불일치횟수 -> 학습이 잘 된다면 후반으로 갈수록 0에 가까워질거라 예상\n",
    "        \n",
    "        for _ in range(self.n_iter): # 반복횟수 설정\n",
    "            errors = 0\n",
    "            for xi, target in zip(X, y):\n",
    "                update = self.eta * (target - self.predict(xi)) # 델타w 계산\n",
    "                self.w_[1:] += update * xi # 각 가중치 갱신\n",
    "                self.w_[0] += update # 각 가중치 갱신\n",
    "                errors += int(update != 0.0) # 목표값과 예측값 불일치 횟수\n",
    "            self.errors_.append(errors)\n",
    "        return self\n",
    "                \n",
    "    def net_input(self, X):\n",
    "        return np.dot(X, self.w_[1:] + self.w_[0]) # net값\n",
    "        \n",
    "    def predict(self, X):\n",
    "        return np.where(self.net_input(X) >= 0.0 , 1, -1) # 활성함수\n",
    "        \n",
    "        "
   ]
  },
  {
   "cell_type": "code",
   "execution_count": 2,
   "metadata": {},
   "outputs": [
    {
     "data": {
      "text/html": [
       "<div>\n",
       "<style scoped>\n",
       "    .dataframe tbody tr th:only-of-type {\n",
       "        vertical-align: middle;\n",
       "    }\n",
       "\n",
       "    .dataframe tbody tr th {\n",
       "        vertical-align: top;\n",
       "    }\n",
       "\n",
       "    .dataframe thead th {\n",
       "        text-align: right;\n",
       "    }\n",
       "</style>\n",
       "<table border=\"1\" class=\"dataframe\">\n",
       "  <thead>\n",
       "    <tr style=\"text-align: right;\">\n",
       "      <th></th>\n",
       "      <th>0</th>\n",
       "      <th>1</th>\n",
       "      <th>2</th>\n",
       "      <th>3</th>\n",
       "      <th>4</th>\n",
       "    </tr>\n",
       "  </thead>\n",
       "  <tbody>\n",
       "    <tr>\n",
       "      <th>0</th>\n",
       "      <td>5.1</td>\n",
       "      <td>3.5</td>\n",
       "      <td>1.4</td>\n",
       "      <td>0.2</td>\n",
       "      <td>Iris-setosa</td>\n",
       "    </tr>\n",
       "    <tr>\n",
       "      <th>1</th>\n",
       "      <td>4.9</td>\n",
       "      <td>3.0</td>\n",
       "      <td>1.4</td>\n",
       "      <td>0.2</td>\n",
       "      <td>Iris-setosa</td>\n",
       "    </tr>\n",
       "    <tr>\n",
       "      <th>2</th>\n",
       "      <td>4.7</td>\n",
       "      <td>3.2</td>\n",
       "      <td>1.3</td>\n",
       "      <td>0.2</td>\n",
       "      <td>Iris-setosa</td>\n",
       "    </tr>\n",
       "    <tr>\n",
       "      <th>3</th>\n",
       "      <td>4.6</td>\n",
       "      <td>3.1</td>\n",
       "      <td>1.5</td>\n",
       "      <td>0.2</td>\n",
       "      <td>Iris-setosa</td>\n",
       "    </tr>\n",
       "    <tr>\n",
       "      <th>4</th>\n",
       "      <td>5.0</td>\n",
       "      <td>3.6</td>\n",
       "      <td>1.4</td>\n",
       "      <td>0.2</td>\n",
       "      <td>Iris-setosa</td>\n",
       "    </tr>\n",
       "  </tbody>\n",
       "</table>\n",
       "</div>"
      ],
      "text/plain": [
       "     0    1    2    3            4\n",
       "0  5.1  3.5  1.4  0.2  Iris-setosa\n",
       "1  4.9  3.0  1.4  0.2  Iris-setosa\n",
       "2  4.7  3.2  1.3  0.2  Iris-setosa\n",
       "3  4.6  3.1  1.5  0.2  Iris-setosa\n",
       "4  5.0  3.6  1.4  0.2  Iris-setosa"
      ]
     },
     "execution_count": 2,
     "metadata": {},
     "output_type": "execute_result"
    }
   ],
   "source": [
    "import pandas as pd\n",
    "df = pd.read_csv('https://archive.ics.uci.edu/ml/'\n",
    "                 'machine-learning-databases/iris/iris.data'\n",
    "                 ,header = None)\n",
    "df.head()"
   ]
  },
  {
   "cell_type": "code",
   "execution_count": 3,
   "metadata": {},
   "outputs": [
    {
     "data": {
      "image/png": "[encoded data removed]",
      "text/plain": [
       "<Figure size 432x288 with 1 Axes>"
      ]
     },
     "metadata": {
      "needs_background": "light"
     },
     "output_type": "display_data"
    }
   ],
   "source": [
    "y = df.iloc[0:100, 4].values\n",
    "y = np.where(y == 'Iris-setosa', -1, 1)\n",
    "\n",
    "X = df.iloc[0:100, [0, 2]].values\n",
    "\n",
    "plt.scatter(X[:50, 0], X[:50, 1], color = 'r', marker = 'o', label ='setosa')\n",
    "plt.scatter(X[50:100, 0], X[50:100, 1], color = 'b', marker = 'x', label ='versicolor')\n",
    "plt.xlabel('sepal length [cm]')\n",
    "plt.ylabel('petal length [cm]')\n",
    "plt.legend(loc='upper left')\n",
    "plt.show()"
   ]
  },
  {
   "cell_type": "code",
   "execution_count": 4,
   "metadata": {},
   "outputs": [
    {
     "data": {
      "image/png": "[encoded data removed]",
      "text/plain": [
       "<Figure size 432x288 with 1 Axes>"
      ]
     },
     "metadata": {
      "needs_background": "light"
     },
     "output_type": "display_data"
    }
   ],
   "source": [
    "ppn = Perceptron(eta = 0.1, n_iter = 10)\n",
    "ppn.fit(X, y)\n",
    "plt.plot(range(1, len(ppn.errors_) + 1), ppn.errors_, marker = 'o')\n",
    "plt.xlabel('Epochs')\n",
    "plt.ylabel('Number of errors')\n",
    "plt.show()"
   ]
  },
  {
   "cell_type": "code",
   "execution_count": 6,
   "metadata": {},
   "outputs": [
    {
     "data": {
      "image/png": "[encoded data removed]",
      "text/plain": [
       "<Figure size 432x288 with 1 Axes>"
      ]
     },
     "metadata": {
      "needs_background": "light"
     },
     "output_type": "display_data"
    }
   ],
   "source": [
    "from matplotlib.colors import ListedColormap\n",
    "\n",
    "def plot_decision_regions(X, y, classifier, resolution = 0.02):\n",
    "    \n",
    "    markers = ('s', 'x', 'o', '^', 'v')\n",
    "    colors = ('red', 'blue', 'lightgreen', 'gray', 'cyan')\n",
    "    cmap = ListedColormap(colors[:len(np.unique(y))])\n",
    "    \n",
    "    x1_min, x1_max = X[:, 0].min() - 1, X[:,0].max() + 1\n",
    "    x2_min, x2_max = X[:, 1].min() - 1, X[:,1].max() + 1\n",
    "    \n",
    "    xx1, xx2 = np.meshgrid(np.arange(x1_min, x1_max, resolution),\n",
    "                          np.arange(x2_min, x2_max, resolution))\n",
    "    Z = classifier.predict(np.array([xx1.ravel(), xx2.ravel()]).T)\n",
    "    Z = Z.reshape(xx1.shape)\n",
    "    plt.contourf(xx1, xx2, Z, alpha = 0.3, cmap = cmap)\n",
    "    plt.xlim(xx1.min(), xx1.max())\n",
    "    plt.ylim(xx2.min(), xx2.max())\n",
    "    \n",
    "    for idx, cl in enumerate(np.unique(y)):\n",
    "        plt.scatter(x=X[y == cl, 0],\n",
    "                   y=X[y==cl, 1],\n",
    "                   alpha =0.8,\n",
    "                   c = colors[idx],\n",
    "                   marker = markers[idx],\n",
    "                   label = cl,\n",
    "                   edgecolor = 'black')\n",
    "        \n",
    "plot_decision_regions(X, y, classifier = ppn)\n",
    "plt.xlabel('sepal length [cm]')\n",
    "plt.ylabel('petal length [cm]')\n",
    "plt.legend(loc = 'upper left')\n",
    "plt.show()"
   ]
  },
  {
   "cell_type": "markdown",
   "metadata": {},
   "source": []
  }
 ],
 "metadata": {
  "kernelspec": {
   "display_name": "Python 3",
   "language": "python",
   "name": "python3"
  },
  "language_info": {
   "codemirror_mode": {
    "name": "ipython",
    "version": 3
   },
   "file_extension": ".py",
   "mimetype": "text/x-python",
   "name": "python",
   "nbconvert_exporter": "python",
   "pygments_lexer": "ipython3",
   "version": "3.7.1"
  }
 },
 "nbformat": 4,
 "nbformat_minor": 2
}
