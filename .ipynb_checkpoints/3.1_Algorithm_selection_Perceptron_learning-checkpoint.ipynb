{
 "cells": [
  {
   "cell_type": "markdown",
   "metadata": {},
   "source": [
    "## 머신러닝 알고리즘 훈련 다섯 가지 주요 단계\n",
    "1. 특성을 선택하고 훈련 샘플을 모이기\n",
    "2. 성능 지표를 선택\n",
    "3. 분류 모델과 최적화 알고리즘을 선택\n",
    "4. 모델의 성능을 평가\n",
    "5. 알고리즘을 튜닝"
   ]
  },
  {
   "cell_type": "code",
   "execution_count": 2,
   "metadata": {},
   "outputs": [],
   "source": [
    "from sklearn import datasets\n",
    "import numpy as np"
   ]
  },
  {
   "cell_type": "code",
   "execution_count": 3,
   "metadata": {},
   "outputs": [
    {
     "name": "stdout",
     "output_type": "stream",
     "text": [
      "클래스 레이블: [0 1 2]\n"
     ]
    }
   ],
   "source": [
    "iris = datasets.load_iris()\n",
    "X = iris.data[:,[2,3]] #꽃잎 길이와 꽃잎 너비를 특성 행렬 X에 할당 & iris.data를 통해 숫자값들을 행렬로 표현한 후 모든 행 &[2,3]열 추출\n",
    "y = iris.target #lable을 지정 'setosa' = 0 , 'versicolor' = 1, 'virginica' = 2\n",
    "print(\"클래스 레이블:\",np.unique(y)) #unique한 값만 출력"
   ]
  },
  {
   "cell_type": "markdown",
   "metadata": {},
   "source": [
    "* y 값에 정수 레이블 권장되는 이유는 사소한 실수 피하고 작은 메모리 영역을 차지하여 계산 성능을 향상시키기 때문이다."
   ]
  },
  {
   "cell_type": "code",
   "execution_count": 4,
   "metadata": {},
   "outputs": [],
   "source": [
    "from sklearn.model_selection import train_test_split"
   ]
  },
  {
   "cell_type": "markdown",
   "metadata": {},
   "source": [
    "* X : 입력값\n",
    "\n",
    "* y : 레이블 \n",
    "\n",
    "* test_size : 전체 데이터에서 테스트 세트에 할당할 비율(45개)\n",
    "\n",
    "* random_state : 데이터 분활 시 셔플이 이뤄지는 시드(난수)값\n",
    "\n",
    "* stratify : 계층화 기능 사용, 훈련세트와 테스트세트의 클래스 레이블비율을 입력 데이터셋과 동일하게 만든다는 의미이다."
   ]
  },
  {
   "cell_type": "code",
   "execution_count": 5,
   "metadata": {},
   "outputs": [],
   "source": [
    "X_train, X_test, y_train, y_test = train_test_split(X, y,\n",
    "                                                    test_size = 0.3, \n",
    "                                                    random_state=1,\n",
    "                                                    stratify=y)"
   ]
  },
  {
   "cell_type": "code",
   "execution_count": 6,
   "metadata": {},
   "outputs": [
    {
     "name": "stdout",
     "output_type": "stream",
     "text": [
      "y의 레이블 카운트: [50 50 50]\n"
     ]
    }
   ],
   "source": [
    "print('y의 레이블 카운트:',np.bincount(y)) #total 150 & stratify를 통해 각각 1/3"
   ]
  },
  {
   "cell_type": "code",
   "execution_count": 7,
   "metadata": {},
   "outputs": [
    {
     "name": "stdout",
     "output_type": "stream",
     "text": [
      "y_train의 레이블 카운트: [35 35 35]\n"
     ]
    }
   ],
   "source": [
    "print('y_train의 레이블 카운트:', np.bincount(y_train)) #total 105 & 1-test_size0.7 * 150 = 105 & stratify를 통해 각각 1/3"
   ]
  },
  {
   "cell_type": "code",
   "execution_count": 8,
   "metadata": {},
   "outputs": [
    {
     "name": "stdout",
     "output_type": "stream",
     "text": [
      "y_test의 레이블 카운트: [15 15 15]\n"
     ]
    }
   ],
   "source": [
    "print('y_test의 레이블 카운트:',np.bincount(y_test)) #total 45 이것도 같은 방식"
   ]
  },
  {
   "cell_type": "markdown",
   "metadata": {},
   "source": [
    "* 최적화 알고리즘은 최상의 성능을 위해 특성 스케일 조정이 필요하므로 특성을 표준화한다"
   ]
  },
  {
   "cell_type": "code",
   "execution_count": 9,
   "metadata": {},
   "outputs": [],
   "source": [
    "from sklearn.preprocessing import StandardScaler"
   ]
  },
  {
   "cell_type": "code",
   "execution_count": 10,
   "metadata": {},
   "outputs": [],
   "source": [
    "sc = StandardScaler() #sc라는 객체 형성\n",
    "sc.fit(X_train) #StandardScaler의 fit 메서드는 훈련 세트의 각 특성 차원마다 샘플의 평균과 표준편차를 계산\n",
    "X_train_std = sc.transform(X_train) # X_train의 데이터로 정규화된 변수\n",
    "X_test_std = sc.transform(X_test) # X_test의 데이터로 정규화된 변수\n",
    "#transform 메서드를 통해 모평균과 모표준편차를 통해 훈련세트를 표준화(정규식)"
   ]
  },
  {
   "cell_type": "markdown",
   "metadata": {},
   "source": [
    "* 사이킷런의 알고리즘은 대부분 기본적으로모 OvR 방식을 사용하여 다중 분류 를 지원한다"
   ]
  },
  {
   "cell_type": "code",
   "execution_count": 11,
   "metadata": {},
   "outputs": [],
   "source": [
    "from sklearn.linear_model import Perceptron"
   ]
  },
  {
   "cell_type": "code",
   "execution_count": 12,
   "metadata": {},
   "outputs": [
    {
     "data": {
      "text/plain": [
       "Perceptron(eta0=0.1, max_iter=40, random_state=1)"
      ]
     },
     "execution_count": 12,
     "metadata": {},
     "output_type": "execute_result"
    }
   ],
   "source": [
    "# 훈련 데이터의 표준화 후 이를 활용한 퍼셉트론 다중 분류\n",
    "ppn = Perceptron(max_iter = 40, eta0 = 0.1, tol = 1e-3, random_state = 1) # tol-학습 중단될 정확도의 조건\n",
    "ppn.fit(X_train_std, y_train) #표준화된 훈련 데이터 & 해당 레이블 값으로 훈련"
   ]
  },
  {
   "cell_type": "markdown",
   "metadata": {},
   "source": [
    "* 퍼셉트론 훈련 모델을 predict 메서드로 예측"
   ]
  },
  {
   "cell_type": "code",
   "execution_count": 13,
   "metadata": {},
   "outputs": [
    {
     "name": "stdout",
     "output_type": "stream",
     "text": [
      "잘못 분류된 샘플 갯수:1\n"
     ]
    }
   ],
   "source": [
    "y_pred = ppn.predict(X_test_std)\n",
    "print('잘못 분류된 샘플 갯수:%d'%(y_test != y_pred).sum())"
   ]
  },
  {
   "cell_type": "code",
   "execution_count": 14,
   "metadata": {},
   "outputs": [
    {
     "data": {
      "text/plain": [
       "array([[-1.33269725, -1.30728421],\n",
       "       [-1.16537974, -1.30728421],\n",
       "       [ 0.84243039,  1.44587881],\n",
       "       [ 1.0655204 ,  1.18367281],\n",
       "       [-1.44424226, -1.30728421]])"
      ]
     },
     "execution_count": 14,
     "metadata": {},
     "output_type": "execute_result"
    }
   ],
   "source": [
    "X_train_std[:5]"
   ]
  },
  {
   "cell_type": "markdown",
   "metadata": {},
   "source": [
    "* sklearn의 metrics 모듈로 퍼셉트론의 분류 정확도 계산 가능"
   ]
  },
  {
   "cell_type": "code",
   "execution_count": 15,
   "metadata": {},
   "outputs": [],
   "source": [
    "from sklearn.metrics import accuracy_score"
   ]
  },
  {
   "cell_type": "code",
   "execution_count": 16,
   "metadata": {},
   "outputs": [
    {
     "name": "stdout",
     "output_type": "stream",
     "text": [
      "정확도 : 0.98\n"
     ]
    }
   ],
   "source": [
    "print('정확도 : %.2f'%accuracy_score(y_test, y_pred)) #진짜 클래스 레이블과 예측 클래스 레이블 사이의 정확도"
   ]
  },
  {
   "cell_type": "code",
   "execution_count": 17,
   "metadata": {},
   "outputs": [
    {
     "name": "stdout",
     "output_type": "stream",
     "text": [
      "정확도 : 0.98\n"
     ]
    }
   ],
   "source": [
    "# 다른방식\n",
    "print('정확도 : %.2f'%ppn.score(X_test_std, y_test)) #X_test_std 2차원 배열"
   ]
  },
  {
   "cell_type": "code",
   "execution_count": 18,
   "metadata": {},
   "outputs": [],
   "source": [
    "# 시각화\n",
    "from matplotlib.colors import ListedColormap\n",
    "import matplotlib.pyplot as plt"
   ]
  },
  {
   "cell_type": "code",
   "execution_count": 19,
   "metadata": {},
   "outputs": [],
   "source": [
    "def plot_decision_regions(X, y, classifier, test_idx = None, resolution = 0.02):\n",
    "    #마커와 컬러맵 설정\n",
    "    markers = ('s','x','o','^','v')\n",
    "    colors = ('red','blue','lightgreen','gray','cyan')\n",
    "    cmap = ListedColormap(colors[:len(np.unique(y))])\n",
    "    #결정 경계 그리기\n",
    "    x1_min, x1_max = X[:,0].min()-1, X[:,0].max()+1 # petal length에 대한 최소, 최대 값\n",
    "    x2_min, x2_max = X[:,1].min()-1, X[:,1].max()+1 # petal width에 대한 최소, 최대 값\n",
    "    xx1, xx2 = np.meshgrid(np.arange(x1_min, x1_max, resolution),\n",
    "                          np.arange(x2_min, x2_max, resolution)) \n",
    "    # meshgrid를 통해 xx1, xx2에 petal length와 width의 가공된 값을 array 형태로 반환 -> 격자하기 유용하게 계산\n",
    "    Z = classifier.predict(np.array([xx1.ravel(), xx2.ravel()]).T)\n",
    "    # 두 개의 1차원 array를 2행의 array로 만든 후 전치를 통해 2열의 array로 변환하여 예측 클래스 레이블 계산\n",
    "    Z = Z.reshape(xx1.shape) # 다시 xx1의 모형에 맞게 재배치\n",
    "    plt.contourf(xx1, xx2, Z, alpha = 0.3, cmap = cmap) #산점도\n",
    "    plt.xlim(xx1.min(), xx1.max())\n",
    "    plt.ylim(xx2.min(), xx2.max())\n",
    "    \n",
    "    for idx, cl in enumerate(np.unique(y)):\n",
    "        plt.scatter(x=X[y==cl, 0], y = X[y == cl, 1],\n",
    "                   alpha = 0.8, c = colors[idx],\n",
    "                   marker = markers[idx], label = cl,\n",
    "                   edgecolors = 'black')\n",
    "        # X[y == cl, 0] -> y가 0인 값을 array값으로 인덱싱하여 x값에 할당, y값도 마찬가지 아래 3개의 데이터를 통해 확인 가능\n",
    "        # idx == [0,1,2], cl == [0,1,2]로 결정경계를 그린다.\n",
    "        \n",
    "    if test_idx :\n",
    "        X_test, y_test = X[test_idx,:], y[test_idx]\n",
    "        \n",
    "        plt.scatter(X_test[:,0], X_test[:,1], # x축에 petal length, y축에 petal width\n",
    "                   facecolors = 'none', edgecolors='black', alpha = 1.0,\n",
    "                   linewidth = 1, marker = 'o', \n",
    "                   s = 100, label = 'test set') \n",
    "        # test_size = 0.3을 통해 105개의 훈련세트, 45개의 테스트 세트 설정했다.\n",
    "        # 그려진 결정경계 위에 랜덤하게 섞인 테스트를 그리는 함수"
   ]
  },
  {
   "cell_type": "code",
   "execution_count": 20,
   "metadata": {},
   "outputs": [],
   "source": [
    "X_combined_std = np.vstack((X_train_std, X_test_std))\n",
    "y_combined = np.hstack((y_train, y_test))"
   ]
  },
  {
   "cell_type": "code",
   "execution_count": 21,
   "metadata": {},
   "outputs": [
    {
     "data": {
      "text/plain": [
       "array([[-1.33269725, -1.30728421],\n",
       "       [-1.16537974, -1.30728421],\n",
       "       [ 0.84243039,  1.44587881],\n",
       "       [ 1.0655204 ,  1.18367281],\n",
       "       [-1.44424226, -1.30728421]])"
      ]
     },
     "execution_count": 21,
     "metadata": {},
     "output_type": "execute_result"
    }
   ],
   "source": [
    "X_combined_std[:5]"
   ]
  },
  {
   "cell_type": "code",
   "execution_count": 22,
   "metadata": {},
   "outputs": [
    {
     "data": {
      "text/plain": [
       "array([0, 0, 2, 2, 0])"
      ]
     },
     "execution_count": 22,
     "metadata": {},
     "output_type": "execute_result"
    }
   ],
   "source": [
    "y_combined[:5]"
   ]
  },
  {
   "cell_type": "code",
   "execution_count": 23,
   "metadata": {},
   "outputs": [
    {
     "data": {
      "image/png": "[encoded data removed]",
      "text/plain": [
       "<Figure size 432x288 with 1 Axes>"
      ]
     },
     "metadata": {
      "needs_background": "light"
     },
     "output_type": "display_data"
    }
   ],
   "source": [
    "plot_decision_regions(X = X_combined_std,\n",
    "                      y = y_combined,\n",
    "                      classifier=ppn,\n",
    "                      test_idx=range(105,150))\n",
    "plt.xlabel('petal length[standardized]')\n",
    "plt.ylabel('petal width[standardized]')\n",
    "plt.legend(loc='upper left')\n",
    "plt.tight_layout()\n",
    "plt.show()"
   ]
  }
 ],
 "metadata": {
  "kernelspec": {
   "display_name": "Python 3",
   "language": "python",
   "name": "python3"
  },
  "language_info": {
   "codemirror_mode": {
    "name": "ipython",
    "version": 3
   },
   "file_extension": ".py",
   "mimetype": "text/x-python",
   "name": "python",
   "nbconvert_exporter": "python",
   "pygments_lexer": "ipython3",
   "version": "3.8.3"
  }
 },
 "nbformat": 4,
 "nbformat_minor": 4
}
