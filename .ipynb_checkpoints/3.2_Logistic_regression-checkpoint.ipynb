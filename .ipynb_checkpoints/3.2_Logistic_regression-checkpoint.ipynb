{
 "cells": [
  {
   "cell_type": "markdown",
   "metadata": {},
   "source": [
    "###  로지스틱 회귀의 이해와 조건부 확률\n",
    "* 퍼셉트론 규칙\n",
    "  * 머신 러닝 분류 알고리즘을 배우기에 간단\n",
    "  * 클래스가 선형적으로 구분되지 않을 때 수렴할 수 없음\n",
    "* 로지스틱 회귀\n",
    "  * 간단한 선형 이진 분류\n",
    "  * 회귀이지만 회귀가 아니라 \"분류\"\n",
    "  * 다중 분류로 확장 가능 (OvR 방식 사용)\n",
    "  * 결과가 \"범주형\"\n",
    "  * 선형 회귀의 값을 시그모이드의 인풋으로 사용하고, 시그모이드의 아웃풋 값을 범주로 사용\n",
    "  * 시그모이드 함수의 출력: 특정 샘플이 클래스 1에 속할 \"확률\" "
   ]
  },
  {
   "cell_type": "markdown",
   "metadata": {},
   "source": [
    "* 오즈비(odds ratio) : 특정 이벤트가 발생할 확률 $ \\frac{P}{1-P} $. 이 오즈비에 로그 함수를 취해 로짓(logit)함수를 정의할 수 있다.\n",
    "$$ logit(P) = log\\frac{P}{1-P} $$\n",
    "\n",
    "$$ logit(P(y=1|x)) = w^Tx $$\n",
    "<center>(위 함수는 특성 x가 주어졌을 때 이 샘플이 클래스 1에 속할 조건부 확률)</center>\n",
    "\n",
    "* 시그모이드 함수(sigmoid function) : 위 함수에서 특정 클래스에 속할 확률 P를 예측하는 것이 관심 대상이므로 logit 함수를 거꾸로 뒤집어 얻은 함수.\n",
    "$$ \\phi(z) = \\frac{1}{1+e^{-z}} $$\n",
    "$$ (z = w^Tx) $$"
   ]
  },
  {
   "cell_type": "code",
   "execution_count": 1,
   "metadata": {},
   "outputs": [
    {
     "data": {
      "image/png": "[encoded data removed]",
      "text/plain": [
       "<Figure size 432x288 with 1 Axes>"
      ]
     },
     "metadata": {
      "needs_background": "light"
     },
     "output_type": "display_data"
    }
   ],
   "source": [
    "import matplotlib.pyplot as plt\n",
    "import numpy as np\n",
    "def sigmoid(z):\n",
    "    return 1.0 / (1.0+np.exp(-z))\n",
    "z = np.arange(-7, 7, 0.1)\n",
    "phi_z = sigmoid(z)\n",
    "plt.plot(z, phi_z)\n",
    "plt.axvline(0.0, color='k')\n",
    "plt.ylim(-0.1, 1.1)\n",
    "plt.xlabel('z')\n",
    "plt.ylabel('$phi (z)$')\n",
    "\n",
    "# y축의 눈금과 격자선\n",
    "plt.yticks([0.0, 0.5, 1.0])\n",
    "ax = plt.gca()\n",
    "ax.yaxis.grid(True)\n",
    "plt.tight_layout()\n",
    "plt.show()"
   ]
  },
  {
   "cell_type": "markdown",
   "metadata": {},
   "source": [
    "* 아달린과의 차이점으로 로지스틱 회귀는 시그모이드 함수를 통해 확률을 예측하는 데에 많이 사용됨"
   ]
  },
  {
   "cell_type": "markdown",
   "metadata": {},
   "source": [
    "### 로지스틱 비용 함수의 가중치 학습\n",
    "\n",
    "* 비용함수 : 이전과 같이 제곱 오차항 비용함수\n",
    "$$ J(w) = \\sum\\limits_{i}\\frac{1}{2}(\\phi(z^{(i)})-y^{(i)})^2 $$\n",
    "* 가능도 : 로지스틱 회귀 모델을 만들 때 최대화하려는 값. 데이터셋에 있는 각 샘플이 독립적이라고 가정. 실전에서는 로그를 취해 최대화 하는 것이 더 쉬우므로 로그 가능도 함수라고 한다.\n",
    "$$ l(w) = logL(w) = \\sum\\limits_{i}^{n}[y^{(i)}log(\\phi(z^{(i)}))+(1-y^{(i)})log(1-\\phi(z^{(i)}))] $$"
   ]
  },
  {
   "cell_type": "code",
   "execution_count": 2,
   "metadata": {},
   "outputs": [
    {
     "data": {
      "image/png": "[encoded data removed]",
      "text/plain": [
       "<Figure size 432x288 with 1 Axes>"
      ]
     },
     "metadata": {
      "needs_background": "light"
     },
     "output_type": "display_data"
    }
   ],
   "source": [
    "# 샘플이 하나인 경우 분류 비용\n",
    "def cost_1(z):\n",
    "    return -np.log(sigmoid(z))\n",
    "\n",
    "def cost_0(z):\n",
    "    return -np.log(1-sigmoid(z))\n",
    "z = np.arange(-10, 10, 0.1)\n",
    "\n",
    "phi_z = sigmoid(z)\n",
    "c1 = [cost_1(x) for x in z]\n",
    "plt.plot(phi_z, c1, label='J(s) if y=1')\n",
    "c0 = [cost_0(x) for x in z]\n",
    "plt.plot(phi_z, c0, linestyle='--', label='J(w) if y=0')\n",
    "\n",
    "plt.ylim(0.0, 5.1)\n",
    "plt.xlim([0, 1])\n",
    "plt.xlabel('$\\phi$(z)')\n",
    "plt.ylabel('J(w)')\n",
    "plt.legend(loc='best')\n",
    "plt.tight_layout()\n",
    "plt.show()"
   ]
  },
  {
   "cell_type": "markdown",
   "metadata": {},
   "source": [
    "### 아달린 구현을 로지스틱 회귀 알고리즘으로 변경\n",
    "\n",
    "* 아달린 구현에서 비용 함수 J 를 새로운 비용 함수로 바꾸기만 하면 된다.\n",
    "$$ J(w) = - \\sum\\limits_{i}^{n}[y^{(i)}log(\\phi(z^{(i)}))+(1-y^{(i)})log(1-\\phi(z^{(i)}))]$$"
   ]
  },
  {
   "cell_type": "code",
   "execution_count": 19,
   "metadata": {},
   "outputs": [],
   "source": [
    "class LogisticRegressionGD(object):\n",
    "    def __init__(self, eta=0.05, n_iter=100, random_state=1):\n",
    "        self.eta = eta\n",
    "        self.n_iter = n_iter\n",
    "        self.random_state = random_state\n",
    "        \n",
    "    def fit(self, X, y):\n",
    "        rgen = np.random.RandomState(self.random_state)\n",
    "        self.w_ = rgen.normal(loc=0.0, scale=0.01, size=1+X.shape[1])\n",
    "        self.cost_ = []\n",
    "        \n",
    "        for i in range(self.n_iter):\n",
    "            net_input = self.net_input(X)\n",
    "            output = self.activation(net_input)\n",
    "            errors = (y-output)\n",
    "            self.w_[1:] += self.eta*X.T.dot(errors)\n",
    "            self.w_[0] += self.eta*errors.sum()\n",
    "            \n",
    "            #1. 오차 제곱합 대신 로지스틱 비용을 계산\n",
    "            cost = (-y.dot(np.log(output)) - ((1-y).dot(np.log(1-output))))\n",
    "            self.cost_.append(cost)\n",
    "        \n",
    "        return self\n",
    "    \n",
    "    # 최종 입력 계산\n",
    "    def net_input(self, X):\n",
    "        return np.dot(X, self.w_[1:]+self.w_[0])\n",
    "    \n",
    "    # 2. 로지스틱 시그모이드 활성화 계산\n",
    "    def activation(self, z):\n",
    "        return 1. / (1. + np.exp(-np.clip(z, -250, 250)))\n",
    "    \n",
    "    # 단3. 위 계단 함수를 사용하여 클래스 레이블을 바환\n",
    "    def predict(self, X):\n",
    "        return np.where(self.net_input(X)>=0.5, 1, 0)\n",
    "        "
   ]
  },
  {
   "cell_type": "code",
   "execution_count": 26,
   "metadata": {},
   "outputs": [],
   "source": [
    "from sklearn import datasets\n",
    "import numpy as np\n",
    "\n",
    "iris = datasets.load_iris()\n",
    "X = iris.data[:,[2,3]]\n",
    "y = iris.target \n",
    "\n",
    "from sklearn.model_selection import train_test_split\n",
    "\n",
    "X_train, X_test, y_train, y_test = train_test_split(X, y,\n",
    "                                                    test_size = 0.3, \n",
    "                                                    random_state=1,\n",
    "                                                    stratify=y)\n",
    "\n",
    "from sklearn.preprocessing import StandardScaler\n",
    "\n",
    "sc = StandardScaler() #sc라는 객체 형성\n",
    "sc.fit(X_train) #StandardScaler의 fit 메서드는 훈련 세트의 각 특성 차원마다 샘플의 평균과 표준편차를 계산\n",
    "X_train = sc.transform(X_train) # X_train의 데이터로 정규화된 변수\n",
    "X_test = sc.transform(X_test)"
   ]
  },
  {
   "cell_type": "code",
   "execution_count": 27,
   "metadata": {},
   "outputs": [],
   "source": [
    "from matplotlib.colors import ListedColormap\n",
    "import matplotlib.pyplot as plt\n",
    "def plot_decision_regions(X, y, classifier, test_idx = None, resolution = 0.02):\n",
    "    #마커와 컬러맵 설정\n",
    "    markers = ('s','x','o','^','v')\n",
    "    colors = ('red','blue','lightgreen','gray','cyan')\n",
    "    cmap = ListedColormap(colors[:len(np.unique(y))])\n",
    "    #결정 경계 그리기\n",
    "    x1_min, x1_max = X[:,0].min()-1, X[:,0].max()+1 # petal length에 대한 최소, 최대 값\n",
    "    x2_min, x2_max = X[:,1].min()-1, X[:,1].max()+1 # petal width에 대한 최소, 최대 값\n",
    "    xx1, xx2 = np.meshgrid(np.arange(x1_min, x1_max, resolution),\n",
    "                          np.arange(x2_min, x2_max, resolution)) \n",
    "    # meshgrid를 통해 xx1, xx2에 petal length와 width의 가공된 값을 array 형태로 반환 -> 격자하기 유용하게 계산\n",
    "    Z = classifier.predict(np.array([xx1.ravel(), xx2.ravel()]).T)\n",
    "    # 두 개의 1차원 array를 2행의 array로 만든 후 전치를 통해 2열의 array로 변환하여 예측 클래스 레이블 계산\n",
    "    Z = Z.reshape(xx1.shape) # 다시 xx1의 모형에 맞게 재배치\n",
    "    plt.contourf(xx1, xx2, Z, alpha = 0.3, cmap = cmap) #산점도\n",
    "    plt.xlim(xx1.min(), xx1.max())\n",
    "    plt.ylim(xx2.min(), xx2.max())\n",
    "    \n",
    "    for idx, cl in enumerate(np.unique(y)):\n",
    "        plt.scatter(x=X[y==cl, 0], y = X[y == cl, 1],\n",
    "                   alpha = 0.8, c = colors[idx],\n",
    "                   marker = markers[idx], label = cl,\n",
    "                   edgecolors = 'black')\n",
    "        # X[y == cl, 0] -> y가 0인 값을 array값으로 인덱싱하여 x값에 할당, y값도 마찬가지 아래 3개의 데이터를 통해 확인 가능\n",
    "        # idx == [0,1,2], cl == [0,1,2]로 결정경계를 그린다.\n",
    "        \n",
    "    if test_idx :\n",
    "        X_test, y_test = X[test_idx,:], y[test_idx]\n",
    "        \n",
    "        plt.scatter(X_test[:,0], X_test[:,1], # x축에 petal length, y축에 petal width\n",
    "                   facecolors = 'none', edgecolors='black', alpha = 1.0,\n",
    "                   linewidth = 1, marker = 'o', \n",
    "                   s = 100, label = 'test set') "
   ]
  },
  {
   "cell_type": "code",
   "execution_count": 28,
   "metadata": {},
   "outputs": [
    {
     "name": "stderr",
     "output_type": "stream",
     "text": [
      "<ipython-input-19-5277338067df>:20: RuntimeWarning: divide by zero encountered in log\n",
      "  cost = (-y.dot(np.log(output)) - ((1-y).dot(np.log(1-output))))\n"
     ]
    },
    {
     "data": {
      "image/png": "[encoded data removed]",
      "text/plain": [
       "<Figure size 432x288 with 1 Axes>"
      ]
     },
     "metadata": {
      "needs_background": "light"
     },
     "output_type": "display_data"
    }
   ],
   "source": [
    "X_train_01_subset = X_train[(y_train == 0 | (y_train == 1))]\n",
    "y_train_01_subset = y_train[(y_train == 0 | (y_train == 1))]\n",
    "lrgd = LogisticRegressionGD(eta = 0.05, n_iter= 1000, random_state = 1)\n",
    "lrgd.fit(X_train_01_subset, y_train_01_subset)\n",
    "\n",
    "plot_decision_regions(X=X_train_01_subset,\n",
    "                     y= y_train_01_subset,\n",
    "                     classifier=lrgd)\n",
    "plt.xlabel('petal length')\n",
    "plt.ylabel('petal width')\n",
    "plt.tight_layout()\n",
    "plt.show()"
   ]
  },
  {
   "cell_type": "markdown",
   "metadata": {},
   "source": [
    "### 규제를 사용하여 과대적합 피하기"
   ]
  },
  {
   "cell_type": "code",
   "execution_count": null,
   "metadata": {},
   "outputs": [],
   "source": []
  }
 ],
 "metadata": {
  "kernelspec": {
   "display_name": "Python 3",
   "language": "python",
   "name": "python3"
  },
  "language_info": {
   "codemirror_mode": {
    "name": "ipython",
    "version": 3
   },
   "file_extension": ".py",
   "mimetype": "text/x-python",
   "name": "python",
   "nbconvert_exporter": "python",
   "pygments_lexer": "ipython3",
   "version": "3.8.3"
  }
 },
 "nbformat": 4,
 "nbformat_minor": 4
}
