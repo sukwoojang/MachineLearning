{
 "cells": [
  {
   "cell_type": "markdown",
   "metadata": {},
   "source": [
    "### 학습 곡선으로 편향과 분산 문제 분석\n",
    "\n",
    "* 보통 훈련 샘플을 더 모으면 과대적합을 줄이는 데 도움이 되지만 실전에서는 데이터를 더 모으는 것이 비싸거나 그냥 불가능할 때가 많다. 모델의 훈련 정확도와 검증 정확도를 훈련세트의 크기 함수로 그래프를 그려보면 모델에 높은 분산의 문제가 있는지 높은 편향의 문제가 있는지 쉽게 감지할 수 있다. 즉, 더 많은 데이터를 모으는 것이 문제를 해결할 수 있을지 판단이 가능해진다."
   ]
  },
  {
   "cell_type": "code",
   "execution_count": 1,
   "metadata": {},
   "outputs": [],
   "source": [
    "import pandas as pd\n",
    "\n",
    "df = pd.read_csv('https://archive.ics.uci.edu/ml/machine-learning-databases'\n",
    "                '/breast-cancer-wisconsin/wdbc.data', header = None)"
   ]
  },
  {
   "cell_type": "code",
   "execution_count": 2,
   "metadata": {},
   "outputs": [
    {
     "data": {
      "text/plain": [
       "array(['B', 'M'], dtype=object)"
      ]
     },
     "execution_count": 2,
     "metadata": {},
     "output_type": "execute_result"
    }
   ],
   "source": [
    "from sklearn.preprocessing import LabelEncoder\n",
    "import numpy as np\n",
    "\n",
    "X = df.loc[:,2:].values\n",
    "y = df.loc[:,1].values\n",
    "le = LabelEncoder()\n",
    "y = le.fit_transform(y)\n",
    "le.classes_"
   ]
  },
  {
   "cell_type": "code",
   "execution_count": 3,
   "metadata": {},
   "outputs": [
    {
     "data": {
      "text/plain": [
       "(569, 30)"
      ]
     },
     "execution_count": 3,
     "metadata": {},
     "output_type": "execute_result"
    }
   ],
   "source": [
    "from sklearn.model_selection import train_test_split\n",
    "\n",
    "X_train, X_test, y_train, y_test = train_test_split(X, y, test_size = 0.2,\n",
    "                                                   stratify = y, random_state = 1)\n",
    "X.shape"
   ]
  },
  {
   "cell_type": "code",
   "execution_count": 6,
   "metadata": {},
   "outputs": [],
   "source": [
    "from sklearn.preprocessing import StandardScaler\n",
    "from sklearn.decomposition import PCA\n",
    "from sklearn.linear_model import LogisticRegression\n",
    "from sklearn.pipeline import make_pipeline\n",
    "from sklearn.model_selection import learning_curve\n",
    "import matplotlib.pyplot as plt"
   ]
  },
  {
   "cell_type": "code",
   "execution_count": 8,
   "metadata": {},
   "outputs": [
    {
     "data": {
      "image/png": "[encoded data removed]",
      "text/plain": [
       "<Figure size 432x288 with 1 Axes>"
      ]
     },
     "metadata": {
      "needs_background": "light"
     },
     "output_type": "display_data"
    }
   ],
   "source": [
    "pipe_lr = make_pipeline(StandardScaler(),\n",
    "                       LogisticRegression(solver='liblinear',penalty='l2',random_state = 1))\n",
    "train_sizes, train_scores, test_scores = learning_curve(estimator= pipe_lr,\n",
    "                                                       X=X_train,\n",
    "                                                       y=y_train,\n",
    "                                                       train_sizes = np.linspace(0.1,1.0,10),\n",
    "                                                       cv=10,\n",
    "                                                       n_jobs=1)\n",
    "train_mean = np.mean(train_scores, axis=1)\n",
    "train_std = np.std(train_scores, axis=1)\n",
    "test_mean = np.mean(test_scores, axis=1)\n",
    "test_std = np.std(test_scores, axis=1)\n",
    "\n",
    "plt.plot(train_sizes, train_mean, color = 'blue', marker='o', label = 'training accuracy')\n",
    "plt.fill_between(train_sizes, train_mean + train_std, train_mean- train_std, alpha= 0.15, color= 'blue')\n",
    "plt.plot(train_sizes, test_mean, color = 'green',ls='--', marker='s', label = 'validation accuracy')\n",
    "plt.fill_between(train_sizes, test_mean + test_std, test_mean- test_std, alpha= 0.15, color= 'green')\n",
    "plt.grid()\n",
    "plt.xlabel('Number of training samples')\n",
    "plt.ylabel('Accuracy')\n",
    "plt.legend(loc='lower right')\n",
    "plt.ylim([0.8,1.03])\n",
    "plt.tight_layout()\n",
    "plt.show()"
   ]
  },
  {
   "cell_type": "code",
   "execution_count": 9,
   "metadata": {},
   "outputs": [
    {
     "data": {
      "text/plain": [
       "array([ 40,  81, 122, 163, 204, 245, 286, 327, 368, 409])"
      ]
     },
     "execution_count": 9,
     "metadata": {},
     "output_type": "execute_result"
    }
   ],
   "source": [
    "train_sizes"
   ]
  },
  {
   "cell_type": "code",
   "execution_count": 10,
   "metadata": {},
   "outputs": [
    {
     "data": {
      "text/plain": [
       "array([[1.        , 1.        , 1.        , 1.        , 1.        ,\n",
       "        1.        , 1.        , 1.        , 1.        , 1.        ],\n",
       "       [1.        , 1.        , 1.        , 1.        , 1.        ,\n",
       "        1.        , 1.        , 1.        , 1.        , 1.        ],\n",
       "       [1.        , 1.        , 1.        , 1.        , 1.        ,\n",
       "        1.        , 1.        , 1.        , 1.        , 1.        ],\n",
       "       [0.99386503, 0.99386503, 0.99386503, 1.        , 1.        ,\n",
       "        1.        , 1.        , 1.        , 1.        , 1.        ],\n",
       "       [0.98529412, 0.98529412, 0.98529412, 0.99019608, 0.99509804,\n",
       "        0.99509804, 0.99509804, 0.99509804, 0.99509804, 0.99509804],\n",
       "       [0.97959184, 0.98367347, 0.98367347, 0.9877551 , 0.9877551 ,\n",
       "        0.9877551 , 0.9877551 , 0.9877551 , 0.9877551 , 0.9877551 ],\n",
       "       [0.97902098, 0.98601399, 0.98251748, 0.98951049, 0.98951049,\n",
       "        0.98951049, 0.98601399, 0.98601399, 0.98601399, 0.98601399],\n",
       "       [0.98470948, 0.98470948, 0.98776758, 0.98470948, 0.99082569,\n",
       "        0.99082569, 0.98776758, 0.98776758, 0.98776758, 0.98776758],\n",
       "       [0.98641304, 0.98641304, 0.98913043, 0.98913043, 0.99184783,\n",
       "        0.98913043, 0.98913043, 0.98913043, 0.98913043, 0.98913043],\n",
       "       [0.98777506, 0.98777506, 0.99022005, 0.99022005, 0.99022005,\n",
       "        0.99022005, 0.99022005, 0.98777506, 0.99022005, 0.98777506]])"
      ]
     },
     "execution_count": 10,
     "metadata": {},
     "output_type": "execute_result"
    }
   ],
   "source": [
    "train_scores"
   ]
  },
  {
   "cell_type": "code",
   "execution_count": 11,
   "metadata": {},
   "outputs": [
    {
     "data": {
      "text/plain": [
       "array([[0.93478261, 0.93478261, 0.97826087, 0.95652174, 0.86956522,\n",
       "        0.97777778, 0.95555556, 0.95555556, 0.95555556, 1.        ],\n",
       "       [0.95652174, 0.97826087, 0.93478261, 0.97826087, 0.95652174,\n",
       "        0.95555556, 0.97777778, 0.95555556, 0.97777778, 1.        ],\n",
       "       [0.95652174, 0.97826087, 0.93478261, 0.97826087, 0.95652174,\n",
       "        0.95555556, 0.97777778, 0.93333333, 0.97777778, 1.        ],\n",
       "       [0.95652174, 0.97826087, 1.        , 0.97826087, 0.95652174,\n",
       "        0.95555556, 0.97777778, 1.        , 1.        , 1.        ],\n",
       "       [0.97826087, 0.97826087, 0.95652174, 0.95652174, 0.95652174,\n",
       "        0.95555556, 0.97777778, 1.        , 0.97777778, 0.97777778],\n",
       "       [0.95652174, 0.97826087, 1.        , 0.97826087, 0.95652174,\n",
       "        0.97777778, 0.97777778, 0.97777778, 0.97777778, 0.97777778],\n",
       "       [0.97826087, 0.97826087, 0.97826087, 0.97826087, 0.95652174,\n",
       "        0.97777778, 0.97777778, 0.97777778, 0.97777778, 0.97777778],\n",
       "       [1.        , 0.97826087, 1.        , 0.97826087, 0.95652174,\n",
       "        0.95555556, 0.97777778, 0.97777778, 0.97777778, 0.97777778],\n",
       "       [1.        , 0.97826087, 1.        , 0.97826087, 0.95652174,\n",
       "        0.95555556, 0.97777778, 0.97777778, 1.        , 1.        ],\n",
       "       [1.        , 0.97826087, 1.        , 0.97826087, 0.93478261,\n",
       "        0.95555556, 0.97777778, 0.97777778, 1.        , 1.        ]])"
      ]
     },
     "execution_count": 11,
     "metadata": {},
     "output_type": "execute_result"
    }
   ],
   "source": [
    "test_scores"
   ]
  },
  {
   "cell_type": "code",
   "execution_count": 12,
   "metadata": {},
   "outputs": [
    {
     "data": {
      "text/plain": [
       "(455, 30)"
      ]
     },
     "execution_count": 12,
     "metadata": {},
     "output_type": "execute_result"
    }
   ],
   "source": [
    "X_train.shape"
   ]
  },
  {
   "cell_type": "markdown",
   "metadata": {},
   "source": [
    "### 검증 곡선으로 과대적합과 과소적합 조사\n",
    "\n",
    "* 학습 곡선과 관련이 있지만 샘플 크기의 함수로 훈련 정확도와 테스트 정확도를 그리는 대신 모델 파라미터 값의 함수로 그린다."
   ]
  },
  {
   "cell_type": "code",
   "execution_count": 16,
   "metadata": {},
   "outputs": [
    {
     "data": {
      "image/png": "[encoded data removed]",
      "text/plain": [
       "<Figure size 432x288 with 1 Axes>"
      ]
     },
     "metadata": {
      "needs_background": "light"
     },
     "output_type": "display_data"
    }
   ],
   "source": [
    "from sklearn.model_selection import validation_curve\n",
    "\n",
    "param_range=[0.001, 0.01, 0.1, 1.0, 10.0, 100.0]\n",
    "train_scores,test_scores = validation_curve(estimator = pipe_lr,\n",
    "                                           X=X_train,\n",
    "                                           y=y_train,\n",
    "                                           param_name='logisticregression__C',\n",
    "                                           param_range=param_range,\n",
    "                                           cv = 10)\n",
    "\n",
    "train_mean = np.mean(train_scores, axis=1)\n",
    "train_std = np.std(train_scores, axis=1)\n",
    "test_mean = np.mean(test_scores, axis=1)\n",
    "test_std = np.std(test_scores, axis=1)\n",
    "\n",
    "plt.plot(param_range, train_mean, color = 'blue', marker='o', label = 'training accuracy')\n",
    "plt.fill_between(param_range, train_mean + train_std, train_mean- train_std, alpha= 0.15, color= 'blue')\n",
    "plt.plot(param_range, test_mean, color = 'green',ls='--', marker='s', label = 'validation accuracy')\n",
    "plt.fill_between(param_range, test_mean + test_std, test_mean- test_std, alpha= 0.15, color= 'green')\n",
    "plt.grid()\n",
    "plt.xscale('log')\n",
    "plt.xlabel('Parameter C')\n",
    "plt.ylabel('Accuracy')\n",
    "plt.legend(loc='lower right')\n",
    "plt.ylim([0.8,1.03])\n",
    "plt.tight_layout()\n",
    "plt.show()"
   ]
  },
  {
   "cell_type": "code",
   "execution_count": null,
   "metadata": {},
   "outputs": [],
   "source": []
  }
 ],
 "metadata": {
  "kernelspec": {
   "display_name": "Python 3",
   "language": "python",
   "name": "python3"
  },
  "language_info": {
   "codemirror_mode": {
    "name": "ipython",
    "version": 3
   },
   "file_extension": ".py",
   "mimetype": "text/x-python",
   "name": "python",
   "nbconvert_exporter": "python",
   "pygments_lexer": "ipython3",
   "version": "3.8.3"
  }
 },
 "nbformat": 4,
 "nbformat_minor": 4
}
