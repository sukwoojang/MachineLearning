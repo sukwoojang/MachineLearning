{
 "cells": [
  {
   "cell_type": "markdown",
   "metadata": {},
   "source": [
    "## 선형 판별 분석을 통한 지도 방식의 데이터 압축\n",
    "\n",
    "* 선형 판별 분석(Linear Discriminant Analysis, LDA) : 규제가 없는 모델에서 차원의 저주로 인한 과대 적합 정도를 줄이고 계산 효율성을 높이기 위한 특성 추출의 기법으로 사용할 수 있다. PCA와 유사하며 LDA 목표는 클래스를 최적으로 구분할 수 있는 특성 부분 공간을 찾는 것이다.\n",
    "\n",
    "### 주성분 분석 vs 선형 판별 분석\n",
    "\n",
    "* PCA는 비지도학습 알고리즘, 선형 판별 분석은 지도학습 알고리즘이다.\n",
    "\n",
    "![텍스트](http://i.imgur.com/6ggd2F0.png)\n",
    "* LDA는 위 그림처럼 데이터를 특정 한 축에 사영(projection)한 후에 두 범주를 잘 구분할 수 있는 직선을 찾는 걸 목표로 합니다. 모델 이름에 linear라는 이름이 붙은 이유이기도 합니다.\n",
    "* LDA는 데이터가 정규 분포라고 가정합니다. 또 클래스가 동일한 공분산 행렬을 가지고 샘플은 서로 통계적으로 독립적이라고 가정합니다. 하나 이상의 가정이 위반되더라도 여전히 LDA는 차원 축소를 상당히 잘 수행합니다.\n",
    "\n",
    "### 선형 판별 분석의 내부 동작 방식\n",
    "\n",
    "* LDA 수행에 필요한 주요 단계\n",
    "    * d 차원의 데이터셋을 표준화 전처리한다\n",
    "    * 각 클래스에 대해 d 차원의 평균 벡터를 계산한다\n",
    "    * 클래스 간의 산포 행렬 $S_B$와 클래스 내 산포 행렬 $S_w$를 구성한다\n",
    "    * $S_w^{-1}S_B$행렬의 고유 벡터와 고유값을 계산한다\n",
    "    * 고유값을 내림차순으로 정렬하여 고유 벡터의 순서를 매긴다\n",
    "    * 고유값이 가장 큰 k개의 고유 벡터를 선택하여 d X K차원의 변환 행렬 W를 구성한다. 이 행렬의 열이 고유 벡터이다\n",
    "    * 변환 행렬 W를 사용하여 샘플을 새로운 특성 부분 공간으로 투영한다\n",
    "    \n",
    "### 산포 행렬 계산\n",
    "\n",
    "* 평균 벡터를 사용하여 클래스 간의 산포 행렬과 클래스 내 산포 행렬을 구성한다. 평균 벡터 $m_i$는 클래스 $ i$의 샘플에 대한 특성의 평균값 $\\mu_m$을 저장한다.\n",
    "$$ m_i = \\frac{1}{n_i}\\sum\\limits_{x\\in{D_i}}^{c}x_m $$\n",
    "$$ m_i = \\begin{bmatrix} \\mu_i,alcohol \\\\\\\\\n",
    "\\mu_i,malic acid \\\\\\\\\n",
    "\\mu_i,proline \\end{bmatrix} i\\in{\\{1,2,3\\}} $$"
   ]
  },
  {
   "cell_type": "code",
   "execution_count": 2,
   "metadata": {},
   "outputs": [
    {
     "data": {
      "text/html": [
       "<div>\n",
       "<style scoped>\n",
       "    .dataframe tbody tr th:only-of-type {\n",
       "        vertical-align: middle;\n",
       "    }\n",
       "\n",
       "    .dataframe tbody tr th {\n",
       "        vertical-align: top;\n",
       "    }\n",
       "\n",
       "    .dataframe thead th {\n",
       "        text-align: right;\n",
       "    }\n",
       "</style>\n",
       "<table border=\"1\" class=\"dataframe\">\n",
       "  <thead>\n",
       "    <tr style=\"text-align: right;\">\n",
       "      <th></th>\n",
       "      <th>0</th>\n",
       "      <th>1</th>\n",
       "      <th>2</th>\n",
       "      <th>3</th>\n",
       "      <th>4</th>\n",
       "      <th>5</th>\n",
       "      <th>6</th>\n",
       "      <th>7</th>\n",
       "      <th>8</th>\n",
       "      <th>9</th>\n",
       "      <th>10</th>\n",
       "      <th>11</th>\n",
       "      <th>12</th>\n",
       "      <th>13</th>\n",
       "    </tr>\n",
       "  </thead>\n",
       "  <tbody>\n",
       "    <tr>\n",
       "      <th>0</th>\n",
       "      <td>1</td>\n",
       "      <td>14.23</td>\n",
       "      <td>1.71</td>\n",
       "      <td>2.43</td>\n",
       "      <td>15.6</td>\n",
       "      <td>127</td>\n",
       "      <td>2.80</td>\n",
       "      <td>3.06</td>\n",
       "      <td>0.28</td>\n",
       "      <td>2.29</td>\n",
       "      <td>5.64</td>\n",
       "      <td>1.04</td>\n",
       "      <td>3.92</td>\n",
       "      <td>1065</td>\n",
       "    </tr>\n",
       "    <tr>\n",
       "      <th>1</th>\n",
       "      <td>1</td>\n",
       "      <td>13.20</td>\n",
       "      <td>1.78</td>\n",
       "      <td>2.14</td>\n",
       "      <td>11.2</td>\n",
       "      <td>100</td>\n",
       "      <td>2.65</td>\n",
       "      <td>2.76</td>\n",
       "      <td>0.26</td>\n",
       "      <td>1.28</td>\n",
       "      <td>4.38</td>\n",
       "      <td>1.05</td>\n",
       "      <td>3.40</td>\n",
       "      <td>1050</td>\n",
       "    </tr>\n",
       "    <tr>\n",
       "      <th>2</th>\n",
       "      <td>1</td>\n",
       "      <td>13.16</td>\n",
       "      <td>2.36</td>\n",
       "      <td>2.67</td>\n",
       "      <td>18.6</td>\n",
       "      <td>101</td>\n",
       "      <td>2.80</td>\n",
       "      <td>3.24</td>\n",
       "      <td>0.30</td>\n",
       "      <td>2.81</td>\n",
       "      <td>5.68</td>\n",
       "      <td>1.03</td>\n",
       "      <td>3.17</td>\n",
       "      <td>1185</td>\n",
       "    </tr>\n",
       "    <tr>\n",
       "      <th>3</th>\n",
       "      <td>1</td>\n",
       "      <td>14.37</td>\n",
       "      <td>1.95</td>\n",
       "      <td>2.50</td>\n",
       "      <td>16.8</td>\n",
       "      <td>113</td>\n",
       "      <td>3.85</td>\n",
       "      <td>3.49</td>\n",
       "      <td>0.24</td>\n",
       "      <td>2.18</td>\n",
       "      <td>7.80</td>\n",
       "      <td>0.86</td>\n",
       "      <td>3.45</td>\n",
       "      <td>1480</td>\n",
       "    </tr>\n",
       "    <tr>\n",
       "      <th>4</th>\n",
       "      <td>1</td>\n",
       "      <td>13.24</td>\n",
       "      <td>2.59</td>\n",
       "      <td>2.87</td>\n",
       "      <td>21.0</td>\n",
       "      <td>118</td>\n",
       "      <td>2.80</td>\n",
       "      <td>2.69</td>\n",
       "      <td>0.39</td>\n",
       "      <td>1.82</td>\n",
       "      <td>4.32</td>\n",
       "      <td>1.04</td>\n",
       "      <td>2.93</td>\n",
       "      <td>735</td>\n",
       "    </tr>\n",
       "    <tr>\n",
       "      <th>...</th>\n",
       "      <td>...</td>\n",
       "      <td>...</td>\n",
       "      <td>...</td>\n",
       "      <td>...</td>\n",
       "      <td>...</td>\n",
       "      <td>...</td>\n",
       "      <td>...</td>\n",
       "      <td>...</td>\n",
       "      <td>...</td>\n",
       "      <td>...</td>\n",
       "      <td>...</td>\n",
       "      <td>...</td>\n",
       "      <td>...</td>\n",
       "      <td>...</td>\n",
       "    </tr>\n",
       "    <tr>\n",
       "      <th>173</th>\n",
       "      <td>3</td>\n",
       "      <td>13.71</td>\n",
       "      <td>5.65</td>\n",
       "      <td>2.45</td>\n",
       "      <td>20.5</td>\n",
       "      <td>95</td>\n",
       "      <td>1.68</td>\n",
       "      <td>0.61</td>\n",
       "      <td>0.52</td>\n",
       "      <td>1.06</td>\n",
       "      <td>7.70</td>\n",
       "      <td>0.64</td>\n",
       "      <td>1.74</td>\n",
       "      <td>740</td>\n",
       "    </tr>\n",
       "    <tr>\n",
       "      <th>174</th>\n",
       "      <td>3</td>\n",
       "      <td>13.40</td>\n",
       "      <td>3.91</td>\n",
       "      <td>2.48</td>\n",
       "      <td>23.0</td>\n",
       "      <td>102</td>\n",
       "      <td>1.80</td>\n",
       "      <td>0.75</td>\n",
       "      <td>0.43</td>\n",
       "      <td>1.41</td>\n",
       "      <td>7.30</td>\n",
       "      <td>0.70</td>\n",
       "      <td>1.56</td>\n",
       "      <td>750</td>\n",
       "    </tr>\n",
       "    <tr>\n",
       "      <th>175</th>\n",
       "      <td>3</td>\n",
       "      <td>13.27</td>\n",
       "      <td>4.28</td>\n",
       "      <td>2.26</td>\n",
       "      <td>20.0</td>\n",
       "      <td>120</td>\n",
       "      <td>1.59</td>\n",
       "      <td>0.69</td>\n",
       "      <td>0.43</td>\n",
       "      <td>1.35</td>\n",
       "      <td>10.20</td>\n",
       "      <td>0.59</td>\n",
       "      <td>1.56</td>\n",
       "      <td>835</td>\n",
       "    </tr>\n",
       "    <tr>\n",
       "      <th>176</th>\n",
       "      <td>3</td>\n",
       "      <td>13.17</td>\n",
       "      <td>2.59</td>\n",
       "      <td>2.37</td>\n",
       "      <td>20.0</td>\n",
       "      <td>120</td>\n",
       "      <td>1.65</td>\n",
       "      <td>0.68</td>\n",
       "      <td>0.53</td>\n",
       "      <td>1.46</td>\n",
       "      <td>9.30</td>\n",
       "      <td>0.60</td>\n",
       "      <td>1.62</td>\n",
       "      <td>840</td>\n",
       "    </tr>\n",
       "    <tr>\n",
       "      <th>177</th>\n",
       "      <td>3</td>\n",
       "      <td>14.13</td>\n",
       "      <td>4.10</td>\n",
       "      <td>2.74</td>\n",
       "      <td>24.5</td>\n",
       "      <td>96</td>\n",
       "      <td>2.05</td>\n",
       "      <td>0.76</td>\n",
       "      <td>0.56</td>\n",
       "      <td>1.35</td>\n",
       "      <td>9.20</td>\n",
       "      <td>0.61</td>\n",
       "      <td>1.60</td>\n",
       "      <td>560</td>\n",
       "    </tr>\n",
       "  </tbody>\n",
       "</table>\n",
       "<p>178 rows × 14 columns</p>\n",
       "</div>"
      ],
      "text/plain": [
       "     0      1     2     3     4    5     6     7     8     9      10    11  \\\n",
       "0     1  14.23  1.71  2.43  15.6  127  2.80  3.06  0.28  2.29   5.64  1.04   \n",
       "1     1  13.20  1.78  2.14  11.2  100  2.65  2.76  0.26  1.28   4.38  1.05   \n",
       "2     1  13.16  2.36  2.67  18.6  101  2.80  3.24  0.30  2.81   5.68  1.03   \n",
       "3     1  14.37  1.95  2.50  16.8  113  3.85  3.49  0.24  2.18   7.80  0.86   \n",
       "4     1  13.24  2.59  2.87  21.0  118  2.80  2.69  0.39  1.82   4.32  1.04   \n",
       "..   ..    ...   ...   ...   ...  ...   ...   ...   ...   ...    ...   ...   \n",
       "173   3  13.71  5.65  2.45  20.5   95  1.68  0.61  0.52  1.06   7.70  0.64   \n",
       "174   3  13.40  3.91  2.48  23.0  102  1.80  0.75  0.43  1.41   7.30  0.70   \n",
       "175   3  13.27  4.28  2.26  20.0  120  1.59  0.69  0.43  1.35  10.20  0.59   \n",
       "176   3  13.17  2.59  2.37  20.0  120  1.65  0.68  0.53  1.46   9.30  0.60   \n",
       "177   3  14.13  4.10  2.74  24.5   96  2.05  0.76  0.56  1.35   9.20  0.61   \n",
       "\n",
       "       12    13  \n",
       "0    3.92  1065  \n",
       "1    3.40  1050  \n",
       "2    3.17  1185  \n",
       "3    3.45  1480  \n",
       "4    2.93   735  \n",
       "..    ...   ...  \n",
       "173  1.74   740  \n",
       "174  1.56   750  \n",
       "175  1.56   835  \n",
       "176  1.62   840  \n",
       "177  1.60   560  \n",
       "\n",
       "[178 rows x 14 columns]"
      ]
     },
     "execution_count": 2,
     "metadata": {},
     "output_type": "execute_result"
    }
   ],
   "source": [
    "import pandas as pd\n",
    "df_wine = pd.read_csv('https://archive.ics.uci.edu/'\n",
    "                     'ml/machine-learning-databases/'\n",
    "                     'wine/wine.data', header=None)\n",
    "df_wine"
   ]
  },
  {
   "cell_type": "code",
   "execution_count": 3,
   "metadata": {},
   "outputs": [],
   "source": [
    "from sklearn.model_selection import train_test_split\n",
    "\n",
    "X, y = df_wine.iloc[:,1:].values, df_wine.iloc[:,0].values\n",
    "\n",
    "X_train, X_test, y_train, y_test = train_test_split(X,y,test_size=0.3,random_state=0,stratify=y)"
   ]
  },
  {
   "cell_type": "code",
   "execution_count": 4,
   "metadata": {},
   "outputs": [],
   "source": [
    "from sklearn.preprocessing import StandardScaler\n",
    "\n",
    "stdsc = StandardScaler()\n",
    "X_train_std = stdsc.fit_transform(X_train)\n",
    "X_test_std = stdsc.transform(X_test)"
   ]
  },
  {
   "cell_type": "code",
   "execution_count": 5,
   "metadata": {},
   "outputs": [
    {
     "name": "stdout",
     "output_type": "stream",
     "text": [
      "MV 1 :\n",
      " [ 0.9066 -0.3497  0.3201 -0.7189  0.5056  0.8807  0.9589 -0.5516  0.5416\n",
      "  0.2338  0.5897  0.6563  1.2075]\n",
      "MV 2 :\n",
      " [-0.8749 -0.2848 -0.3735  0.3157 -0.3848 -0.0433  0.0635 -0.0946  0.0703\n",
      " -0.8286  0.3144  0.3608 -0.7253]\n",
      "MV 3 :\n",
      " [ 0.1992  0.866   0.1682  0.4148 -0.0451 -1.0286 -1.2876  0.8287 -0.7795\n",
      "  0.9649 -1.209  -1.3622 -0.4013]\n"
     ]
    }
   ],
   "source": [
    "import numpy as np\n",
    "\n",
    "np.set_printoptions(precision=4)\n",
    "mean_vecs = []\n",
    "for label in range(1,4):\n",
    "    mean_vecs.append(np.mean(X_train_std[y_train==label], axis = 0))\n",
    "    print('MV',label,':\\n',mean_vecs[label-1])"
   ]
  },
  {
   "cell_type": "markdown",
   "metadata": {},
   "source": [
    "* 클래스 내 산포 행렬 계산\n",
    "$$ S_W = \\sum\\limits_{i=1}^{c}S_i $$\n",
    "$$ S_i = \\sum\\limits_{x\\in{D_i}}^{c}(x-m_i)(x-m_i)^T $$"
   ]
  },
  {
   "cell_type": "code",
   "execution_count": 6,
   "metadata": {},
   "outputs": [
    {
     "data": {
      "text/plain": [
       "array([[ 5.0722e+01,  3.1007e+00, -7.9323e+00, -5.7848e+00, -2.8879e+00,\n",
       "         7.8990e+00,  2.4543e+00,  9.3932e-01,  9.0781e-01,  1.5486e+01,\n",
       "         7.0293e+00, -1.8659e+00,  4.9370e+00],\n",
       "       [ 3.1007e+00,  9.0179e+01,  4.7074e+00,  1.4750e+01, -1.0900e+01,\n",
       "        -8.8059e-02,  9.7797e-01,  8.4547e+00,  4.4732e+00, -1.4494e+01,\n",
       "        -2.0361e+01,  3.5876e+00, -1.1176e+01],\n",
       "       [-7.9323e+00,  4.7074e+00,  1.1189e+02,  7.0126e+01,  2.2213e+01,\n",
       "         1.5505e+01,  1.4856e+01,  2.0454e+01, -2.3344e+00,  1.3787e+00,\n",
       "         5.6585e+00,  8.1917e+00,  3.2570e-01],\n",
       "       [-5.7848e+00,  1.4750e+01,  7.0126e+01,  9.2147e+01,  1.2485e+01,\n",
       "         6.2091e+00,  6.2783e+00,  1.2735e+01, -4.7597e+00, -4.1511e+00,\n",
       "         1.1779e+00,  1.1633e+01, -4.5296e+00],\n",
       "       [-2.8879e+00, -1.0900e+01,  2.2213e+01,  1.2485e+01,  1.0605e+02,\n",
       "         1.0950e+01,  5.2875e+00, -2.1136e+01,  1.3076e+01,  5.9930e+00,\n",
       "         8.4568e+00, -5.3128e-01,  1.1845e+01],\n",
       "       [ 7.8990e+00, -8.8059e-02,  1.5505e+01,  6.2091e+00,  1.0950e+01,\n",
       "         5.7194e+01,  2.8971e+01, -7.4850e+00,  3.0810e+01,  1.5516e+01,\n",
       "         6.6816e-01,  1.9382e+01,  6.3808e+00],\n",
       "       [ 2.4543e+00,  9.7797e-01,  1.4856e+01,  6.2783e+00,  5.2875e+00,\n",
       "         2.8971e+01,  3.1388e+01, -1.0236e+01,  2.5069e+01,  1.4922e+01,\n",
       "        -1.2394e+00,  1.2737e+01,  2.7636e+00],\n",
       "       [ 9.3932e-01,  8.4547e+00,  2.0454e+01,  1.2735e+01, -2.1136e+01,\n",
       "        -7.4850e+00, -1.0236e+01,  8.8416e+01, -1.5290e+01, -6.5190e-01,\n",
       "         2.8315e+00, -1.7076e+01, -7.0906e+00],\n",
       "       [ 9.0781e-01,  4.4732e+00, -2.3344e+00, -4.7597e+00,  1.3076e+01,\n",
       "         3.0810e+01,  2.5069e+01, -1.5290e+01,  9.1676e+01,  2.2137e+01,\n",
       "        -5.9150e+00,  1.1376e+01,  5.9764e+00],\n",
       "       [ 1.5486e+01, -1.4494e+01,  1.3787e+00, -4.1511e+00,  5.9930e+00,\n",
       "         1.5516e+01,  1.4922e+01, -6.5190e-01,  2.2137e+01,  5.6702e+01,\n",
       "        -1.0507e+01, -5.3682e+00,  1.0706e+01],\n",
       "       [ 7.0293e+00, -2.0361e+01,  5.6585e+00,  1.1779e+00,  8.4568e+00,\n",
       "         6.6816e-01, -1.2394e+00,  2.8315e+00, -5.9150e+00, -1.0507e+01,\n",
       "         5.6566e+01,  3.2692e+00,  9.6829e+00],\n",
       "       [-1.8659e+00,  3.5876e+00,  8.1917e+00,  1.1633e+01, -5.3128e-01,\n",
       "         1.9382e+01,  1.2737e+01, -1.7076e+01,  1.1376e+01, -5.3682e+00,\n",
       "         3.2692e+00,  3.8599e+01, -4.6404e+00],\n",
       "       [ 4.9370e+00, -1.1176e+01,  3.2570e-01, -4.5296e+00,  1.1845e+01,\n",
       "         6.3808e+00,  2.7636e+00, -7.0906e+00,  5.9764e+00,  1.0706e+01,\n",
       "         9.6829e+00, -4.6404e+00,  3.2604e+01]])"
      ]
     },
     "execution_count": 6,
     "metadata": {},
     "output_type": "execute_result"
    }
   ],
   "source": [
    "d = 13\n",
    "S_W = np.zeros((d,d))\n",
    "for label, mv in zip(range(1,4), mean_vecs):\n",
    "    class_scatter = np.zeros((d,d))\n",
    "    for row in X_train_std[y_train==label]:\n",
    "        row, mv = row.reshape(d,1), mv.reshape(d,1)\n",
    "        class_scatter += (row - mv).dot((row-mv).T)\n",
    "    S_W += class_scatter\n",
    "    \n",
    "S_W"
   ]
  },
  {
   "cell_type": "code",
   "execution_count": 7,
   "metadata": {},
   "outputs": [
    {
     "name": "stdout",
     "output_type": "stream",
     "text": [
      "클래스 레이블 분포 : [ 0 41 50 32]\n"
     ]
    }
   ],
   "source": [
    "print('클래스 레이블 분포 : %s'% np.bincount(y_train[1:]))"
   ]
  },
  {
   "cell_type": "markdown",
   "metadata": {},
   "source": [
    "* 산포 행렬을 계산할 때 훈련 세트의 클래스 레이블이 균등하게 분포되어 있다고 가정한다. 하지만 이 가정이 틀렸다는 것을 알 수 있다.\n",
    "* 산포 행렬을 클래스 샘플 개수로 나누면 사실 산포 행렬을 계산하는 것이 공분산 행렬을 계산하는 것과 같아진다. 즉, 공분산 행렬은 산포 행렬의 정규화 버전이다."
   ]
  },
  {
   "cell_type": "code",
   "execution_count": 8,
   "metadata": {},
   "outputs": [
    {
     "data": {
      "text/plain": [
       "array([[ 1.214 ,  0.0938, -0.1262, -0.1088, -0.0707,  0.2305,  0.0732,\n",
       "         0.0226,  0.1054,  0.4144,  0.1384, -0.0159,  0.1194],\n",
       "       [ 0.0938,  2.2089,  0.1137,  0.3432, -0.2559, -0.0445, -0.0171,\n",
       "         0.2136,  0.0205, -0.3832, -0.4084,  0.077 , -0.2437],\n",
       "       [-0.1262,  0.1137,  2.5417,  1.6054,  0.5236,  0.3845,  0.3122,\n",
       "         0.4453, -0.0351,  0.0578,  0.1622,  0.1937, -0.0075],\n",
       "       [-0.1088,  0.3432,  1.6054,  2.1096,  0.3167,  0.1494,  0.1198,\n",
       "         0.2673, -0.0814, -0.0673,  0.0327,  0.2492, -0.117 ],\n",
       "       [-0.0707, -0.2559,  0.5236,  0.3167,  2.3833,  0.2333,  0.1394,\n",
       "        -0.5035,  0.2517,  0.141 ,  0.174 , -0.0057,  0.2455],\n",
       "       [ 0.2305, -0.0445,  0.3845,  0.1494,  0.2333,  1.3198,  0.6274,\n",
       "        -0.0788,  0.7452,  0.427 ,  0.0172,  0.426 ,  0.1516],\n",
       "       [ 0.0732, -0.0171,  0.3122,  0.1198,  0.1394,  0.6274,  0.6814,\n",
       "        -0.2522,  0.5632,  0.3752, -0.0395,  0.2477,  0.0728],\n",
       "       [ 0.0226,  0.2136,  0.4453,  0.2673, -0.5035, -0.0788, -0.2522,\n",
       "         2.1252, -0.2756, -0.0349,  0.1167, -0.3259, -0.1455],\n",
       "       [ 0.1054,  0.0205, -0.0351, -0.0814,  0.2517,  0.7452,  0.5632,\n",
       "        -0.2756,  2.1271,  0.6593, -0.176 ,  0.2276,  0.1527],\n",
       "       [ 0.4144, -0.3832,  0.0578, -0.0673,  0.141 ,  0.427 ,  0.3752,\n",
       "        -0.0349,  0.6593,  1.5686, -0.3311, -0.1213,  0.26  ],\n",
       "       [ 0.1384, -0.4084,  0.1622,  0.0327,  0.174 ,  0.0172, -0.0395,\n",
       "         0.1167, -0.176 , -0.3311,  1.2813,  0.089 ,  0.2181],\n",
       "       [-0.0159,  0.077 ,  0.1937,  0.2492, -0.0057,  0.426 ,  0.2477,\n",
       "        -0.3259,  0.2276, -0.1213,  0.089 ,  0.8517, -0.1138],\n",
       "       [ 0.1194, -0.2437, -0.0075, -0.117 ,  0.2455,  0.1516,  0.0728,\n",
       "        -0.1455,  0.1527,  0.26  ,  0.2181, -0.1138,  0.7674]])"
      ]
     },
     "execution_count": 8,
     "metadata": {},
     "output_type": "execute_result"
    }
   ],
   "source": [
    "d = 13\n",
    "S_W = np.zeros((d,d))\n",
    "for label, mv in zip(range(1,4), mean_vecs):\n",
    "    class_scatter = np.cov(X_train_std[y_train==label].T, bias=True)\n",
    "    # bias = True이면 n으로 계산 False이면 n-1로 계산\n",
    "    S_W += class_scatter\n",
    "    \n",
    "S_W  "
   ]
  },
  {
   "cell_type": "markdown",
   "metadata": {},
   "source": [
    "* 클래스 간 산포 행렬 계산\n",
    "$$ S_B = \\sum\\limits_{i=1}^{c}n_i(m_i-m)(m_i-m)^T $$\n",
    "$$ (m은 전체평균) $$\n"
   ]
  },
  {
   "cell_type": "code",
   "execution_count": 9,
   "metadata": {},
   "outputs": [
    {
     "name": "stdout",
     "output_type": "stream",
     "text": [
      "[[ 73.2779   5.1521  29.3409 -37.8053  35.3288  27.8688  24.4037 -10.917\n",
      "   11.9293  51.2816   0.2198  -0.3445  73.9711]\n",
      " [  5.1521  33.8209   5.5342  17.6688  -3.0595 -41.4067 -51.4514  32.9397\n",
      "  -31.0444  36.0237 -47.4845 -53.4785 -18.4551]\n",
      " [ 29.3409   5.5342  12.1084 -13.0286  13.5707   6.6597   4.2554  -0.8742\n",
      "    1.4687  23.8967  -4.84    -5.6837  27.1642]\n",
      " [-37.8053  17.6688 -13.0286  31.8532 -21.5944 -40.7237 -44.8903  26.1101\n",
      "  -25.5242  -6.7623 -28.9705 -32.2968 -52.5343]\n",
      " [ 35.3288  -3.0595  13.5707 -21.5944  17.9512  20.621   20.5742 -10.8479\n",
      "   11.0338  19.3529   7.9757   8.6902  39.5823]\n",
      " [ 27.8688 -41.4067   6.6597 -40.7237  20.621   66.8061  78.1916 -47.8401\n",
      "   45.861  -22.5142  61.6487  69.1515  58.7931]\n",
      " [ 24.4037 -51.4514   4.2554 -44.8903  20.5742  78.1916  92.6119 -57.1978\n",
      "   54.6364 -34.4354  75.5525  84.8261  62.2248]\n",
      " [-10.917   32.9397  -0.8742  26.1101 -10.8479 -47.8401 -57.1978  35.584\n",
      "  -33.8973  25.0189 -47.8855 -53.8    -34.852 ]\n",
      " [ 11.9293 -31.0444   1.4687 -25.5242  11.0338  45.861   54.6364 -33.8973\n",
      "   32.3239 -22.5432  45.299   50.8811  34.5842]\n",
      " [ 51.2816  36.0237  23.8967  -6.7623  19.3529 -22.5142 -34.4354  25.0189\n",
      "  -22.5432  67.2979 -45.8689 -52.0329  28.8464]\n",
      " [  0.2198 -47.4845  -4.84   -28.9705   7.9757  61.6487  75.5525 -47.8855\n",
      "   45.299  -45.8689  67.4344  75.8858  33.8052]\n",
      " [ -0.3445 -53.4785  -5.6837 -32.2968   8.6902  69.1515  84.8261 -53.8\n",
      "   50.8811 -52.0329  75.8858  85.4011  37.4455]\n",
      " [ 73.9711 -18.4551  27.1642 -52.5343  39.5823  58.7931  62.2248 -34.852\n",
      "   34.5842  28.8464  33.8052  37.4455  91.3961]]\n"
     ]
    }
   ],
   "source": [
    "mean_overall = np.mean(X_train_std, axis = 0)\n",
    "mean_overall = mean_overall.reshape(d,1)\n",
    "d = 13\n",
    "S_B = np.zeros((d,d))\n",
    "for i, mean_vec in enumerate(mean_vecs):\n",
    "    n = X_train[y_train == i + 1, :].shape[0]\n",
    "    mean_vec = mean_vec.reshape(d,1)\n",
    "    S_B += n * (mean_vec - mean_overall).dot((mean_vec - mean_overall).T)\n",
    "print(S_B)"
   ]
  },
  {
   "cell_type": "markdown",
   "metadata": {},
   "source": [
    "### 새로운 특성 부분 공간을 위해 선형 판별 벡터 선택\n",
    "\n",
    "* LDA의 남은 단계는 PCA와 유사하다. 공분산 행렬에 대한 고유값 분해를 수행하는 대신 행렬 $S_W^{-1}S_B $ 의 고유값을 계산하면 된다"
   ]
  },
  {
   "cell_type": "code",
   "execution_count": 10,
   "metadata": {},
   "outputs": [
    {
     "name": "stdout",
     "output_type": "stream",
     "text": [
      "내림차순의 고유값\n",
      "\n",
      "358.0042070133658\n",
      "177.07768640666217\n",
      "2.842170943040401e-14\n",
      "2.416464785473244e-14\n",
      "2.1954926639581513e-14\n",
      "2.1954926639581513e-14\n",
      "2.0367938670394332e-14\n",
      "2.0367938670394332e-14\n",
      "1.8639642080179956e-14\n",
      "1.4017013569391021e-14\n",
      "1.4017013569391021e-14\n",
      "3.5106142861573525e-15\n",
      "2.728065685424338e-15\n"
     ]
    }
   ],
   "source": [
    "eigen_vals , eigen_vecs = np.linalg.eig(np.linalg.inv(S_W).dot(S_B))\n",
    "\n",
    "eigen_pairs = [(np.abs(eigen_vals[i]), eigen_vecs[:,i]) for i in range(len(eigen_vals))]\n",
    "\n",
    "eigen_pairs = sorted(eigen_pairs, key = lambda x : x[0], reverse = True)\n",
    "\n",
    "print('내림차순의 고유값\\n')\n",
    "for eigen_val in eigen_pairs:\n",
    "    print(eigen_val[0])"
   ]
  },
  {
   "cell_type": "code",
   "execution_count": 11,
   "metadata": {},
   "outputs": [
    {
     "data": {
      "image/png": "[encoded data removed]",
      "text/plain": [
       "<Figure size 432x288 with 1 Axes>"
      ]
     },
     "metadata": {
      "needs_background": "light"
     },
     "output_type": "display_data"
    }
   ],
   "source": [
    "tot = sum(eigen_vals.real) # 실수부분\n",
    "discr = [(i/tot) for i in sorted(eigen_vals.real, reverse=True)]\n",
    "cum_discr = np.cumsum(discr)\n",
    "\n",
    "import matplotlib.pyplot as plt\n",
    "\n",
    "plt.bar(range(1,14), discr, alpha =0.5, align='center',label='individual discriminability')\n",
    "plt.step(range(1,14), cum_discr, where ='mid', label ='cumulative discriminability')\n",
    "\n",
    "plt.ylabel('discriminability ratio')\n",
    "plt.xlabel('Linear Discriminants')\n",
    "plt.ylim([-0.1, 1.1])\n",
    "plt.legend(loc='best')\n",
    "plt.tight_layout()\n",
    "plt.show()"
   ]
  },
  {
   "cell_type": "code",
   "execution_count": 12,
   "metadata": {},
   "outputs": [
    {
     "name": "stdout",
     "output_type": "stream",
     "text": [
      "[[-0.1484 -0.4093]\n",
      " [ 0.091  -0.1583]\n",
      " [-0.0168 -0.3536]\n",
      " [ 0.1487  0.322 ]\n",
      " [-0.0165 -0.0813]\n",
      " [ 0.1912  0.0841]\n",
      " [-0.7333  0.2828]\n",
      " [-0.0751 -0.0099]\n",
      " [ 0.002   0.0902]\n",
      " [ 0.2953 -0.2168]\n",
      " [-0.0327  0.274 ]\n",
      " [-0.3539 -0.0133]\n",
      " [-0.3918 -0.5954]]\n"
     ]
    }
   ],
   "source": [
    "w = np.hstack((eigen_pairs[0][1][:,np.newaxis].real,\n",
    "              eigen_pairs[1][1][:,np.newaxis].real))\n",
    "print(w)"
   ]
  },
  {
   "cell_type": "markdown",
   "metadata": {},
   "source": [
    "### 새로운 특성 공간으로 샘플 투영\n",
    "* 이전 절과 같이 행렬 W를 훈련 세트에 곱해서 데이터를 변환할 수 있다.\n",
    "$$ X' =XW $$"
   ]
  },
  {
   "cell_type": "code",
   "execution_count": 13,
   "metadata": {},
   "outputs": [
    {
     "data": {
      "image/png": "[encoded data removed]",
      "text/plain": [
       "<Figure size 432x288 with 1 Axes>"
      ]
     },
     "metadata": {
      "needs_background": "light"
     },
     "output_type": "display_data"
    }
   ],
   "source": [
    "X_train_lda = X_train_std.dot(w)\n",
    "colors = ['r', 'b', 'g']\n",
    "markers = ['s', 'x', 'o']\n",
    "for l, c, m in zip(np.unique(y_train), colors, markers):\n",
    "    plt.scatter(X_train_lda[y_train==l, 0],\n",
    "               X_train_lda[y_train==l, 1] * (-1),\n",
    "               c=c , label = l, marker = m) # numpy 인덱싱 array[행조건문,열인덱스]\n",
    "plt.xlabel('LD1')\n",
    "plt.ylabel('LD2')\n",
    "plt.legend(loc='lower right')\n",
    "plt.tight_layout()\n",
    "plt.show()"
   ]
  },
  {
   "cell_type": "markdown",
   "metadata": {},
   "source": [
    "* PCA 결과와 비교\n",
    "![텍스트](data:image/png;base64,iVBORw0KGgoAAAANSUhEUgAAAagAAAEYCAYAAAAJeGK1AAAABHNCSVQICAgIfAhkiAAAAAlwSFlzAAALEgAACxIB0t1+/AAAADh0RVh0U29mdHdhcmUAbWF0cGxvdGxpYiB2ZXJzaW9uMy4yLjIsIGh0dHA6Ly9tYXRwbG90bGliLm9yZy+WH4yJAAAgAElEQVR4nO3df3Bd5Xkn8O8jR8V2keViRMtGyGKStDGxHRUUKElKIY5TyPJjAmxnWW2SDUw16TS1hJtJf2gGy9PxdHfScWSmnXY9S2cZot1OO/lRkhJIwA1NMxCQg8AGhw7ZyEbENMKpjantIFvP/nHvQVdH59x7zj0/3h/n+5m5g++VdO6ja3Of+77v8z6vqCqIiIhs02E6ACIioihMUEREZCUmKCIishITFBERWYkJioiIrPQ20wGkceGFF2p/f7/pMIiIKEf79+9/TVV7wo87laD6+/sxNTVlOgwiIsqRiByOepxTfEREZCUmKCIishITFBERWYkJioiIrMQERUREVmKCIiIiKzFBEVFikwcm0T/Rj46dHeif6MfkgUnTIZHHnNoHRUTmTB6YxPDXhnFq/hQA4PCJwxj+2jAAYGjTkMnQyFMcQRFRImOPjb2VnAKn5k9h7LExQxGR75igiCiRIyeOpHqcKCsmKCJKpK+7L9XjRFkxQRFRIru27MLqztVLHlvduRq7tuwyFBH5jgmKiBIZ2jSEvTftxfru9RAI1nevx96b9rJAggojqmo6hsQGBweV3cyJiPwiIvtVdTD8OEdQRERkJSYoIiKykrEEJSIrReQpEXlWRJ4XkZ2mYiEiIvuY7CTxMwAfUtU3RKQTwD+LyDdU9UmDMRERkSWMJSitVWe8Ub/bWb+5U7FBRESFMroGJSIrRGQawE8AfEtVvxfxPcMiMiUiU3Nzc+UHSURERhhNUKp6TlUHAPQCuFJENkZ8z15VHVTVwZ6envKDJCIiI6yo4lPV4wC+DeB6w6EQEZElTFbx9YjI2vqfVwH4MIAfmIqHiIjsYrKK72IA94vICtQS5d+q6tcNxkNERBYxWcX3HIBfNfX8RERkNyvWoIiIXMFj78vDI9+JiBLisffl4giKiCghHntfLiYoIqKEeOx9uZigiIgS4rH35WKCytuaNYDI8tuaNaYjI6KM8j72ngUXzTFB5e3kyXSPE5Ez8jz2Pii4OHziMBT6VsEFk9QiHvmeN5H4rzn0WhNRsfon+nH4xOFlj6/vXo+Z0ZnyAzKIR74TEVmEBRetMUERERnAgovWmKCIiAzIu+DCR0xQeevqSvc4EVVSngUXvmKRBBERGcUiCSKyGvcEURibxRKRcWzCSlE4giIi43xowsoRYP6YoIjIOJv2BLWTaNgVohhMUERknC17gtpNND6MAG1UjQTFBq7Z8PWjgtmyJ6jdRGPTCNAn1UhQrjdwNZ0gXH/9yHpl7QlqNX3XbqKxZQTom2okKNcxQVAFDG0awszoDBZ2LGBmdKaQ5NRq+q7dRFPUCLDqhRdMUERUCUmm79pNNEWMAFl4UZVOEq4fgWE6ftPPT5SDjp0dUCz/9yoQLOxYeOv+5IFJjD02hiMnjqCvuw+7tuwysherSsdxxHWS4EZdIqqEvu6+yDf88PTd0KYhKzYHs/DC4BSfiFwiIv8oIodE5HkRGSnsydjANRu+fuQBWyoFk2Lhhdk1qLMAfl9VNwD4NQC/KyKXFfJMr79em4oK315/vZCny53pBOH660cE97qHu5ZQi2Bsik9VjwI4Wv/zSRE5BODtAF4wFZO1mAiIclHG9F1ea1jBz9iwHmaKFUUSItIP4J8AbFTV10NfGwYwDAB9fX1XHD68fA6ZiKiRqUKHcNPbwLpV67Dnhj2VSi5pWHvchoicD+BLAEbDyQkAVHWvqg6q6mBPT0/5ARKRU/Iqz25nD1JUKTsAHDt9rHIl4nkwmqBEpBO15DSpql82GQsR+SGPvnjtJrlmFXbszZeeySo+AXAfgEOquttUHETklzzKs9tNcq0q7KpUIp4HkyOoDwD4OIAPich0/fZRg/EQkQfyKM9uN8lFVd61GwMZTFCq+s+qKqq6WVUH6reHTMXjHdMNZokMyaM8u90kF5Syr1u1btnXii4R97Fvn/EiCSoIG8xSReWx3ylLkhvaNITXPvcavnjrF0vbc+Vr3z4rysyTarsXXxWxfx5RJrb05EvC9b597MVHza1ZEz266upKtlE4688TWcaWnnxJ+Nq3j1N8VJN1SpBTiuQhV9Z1fO3bxwRVtHaLFXwqcnA1bqo0l9Z1fO3bxwRVtHZHFllHJKYbzIZxJEWOyWPDb1lca4SbFNegfMV1H6JMXFvXcWnNLCmOoIiIIvi6ruMSJiiqSTslGF4jI/KMr+s6LmGCopq0hxJyTYk85+u6jku4BlW0rq74/UFF/JytXI2bKs3HdR2XMEEVLWoEEmxqDU+NNW5qzVrkYHLjLDtVEFEOOMVnQhmbWrlxlsgoVzb52owjKCKinIWPfg82+QLglGEKHEFRe2zbCExkEZc2+dqMCYrak7bqj8gQE1Ntrm3ytRUTFBF5y1Q/PW7yzQcTVJHiGr7G4fQYUa5MTbVxk28+mKCK1KxirujpsbLXiHzqvk7eMDXVxk2++WAVn6/yXgtqta+KZe1kob7uvsiTZsuYauMm3+w4gqJkmIDIQZxqcxsTVFXFTclxeo48wqk2t4k61JZmcHBQp6amTIeRXLOCCNOve9IO5EGcrX4Xm39XIrKaiOxX1cHw4xxBFcn0ZtZmoyQi8pYvbZaMJigR+WsR+YmIHDQZR2FMb2Ytc33IdDImIgDm9n4VwfQI6n8DuN5wDJREqwRkOhkTEQC/2iwZTVCq+k8AfmoyBifYsMeICYjICT61WTI9gmpJRIZFZEpEpubm5kyHY4apEm9OzxE5x6c2S9YnKFXdq6qDqjrY09NjOhx/cXRE5AWf9n5Zn6Aog6QjII6UiLzh094vtjryGUdARJXkS5sl02Xm/xfAEwB+RURmReQuk/FUhg1FF0RELZiu4rtDVS9W1U5V7VXV+0zGY6289xixrx5RKr5sfHUNp/hc4NNUXauu6ESWCTa+BnuLgo2vALyYRrMZiyRs5es0HEdv5BifNr66hgnKVnwjJ7JCko2vaacAfZgyLON34BSfyzhdRlS4Vocepp0C9GHKsKzfgSMol/k+ysoyzenrFCmVrtXG17RTgD5MGZb1OzBBkb2yJGDfkzeVJrzxdd2qdVj1tlX4+Jc/jv6J/sjRFZC+J55LvfLK+h2YoKg5jkSIMLRpCDOjM3jg1gdw+uxpHDt97K2jLOKk7Yl3waoLcom1DGX1+2OCslWR5yulubZrI5EgoRIVIGpqK4pAYnvf7dqyC50dncseP/nmSWeKJcrq98cEZasij7fw+egMWxMneSHpFJZCY4sFhjYNYc15y2cg3jz3ZuHrUHlV3pXV749VfC7r6oqv4iOiliYPTGLssTEcOXEEfd192LVlV9M32biKvrD13eubfv2np6OPwStyHSrvyrsy+v1xBOUyF0dCaaYXi5jmZPKmunaORo+a2gpb3bkaH33XR5uOVEyc2eRi9SATFJUrTVLNOwHbnrypVO28YUdNbf3O4O8suf/J934S9z97f9PEZ+LMJherBznFR81xGpE81e4bdquprf6J/tjEF/xc8N8004tZtdpwbCOOoKg516YRi6x+pFRsb+dT1DRb0sQXlK4v7FjAzOhM4es5Lp60ywRlK+4/ao9rCdVT7azvlK2oN2wT60tJuHjSrqiq6RgSGxwc1KmpKdNhlKPZXh6H/s6omuI6LKzvXo+Z0ZnyA4qRtoov6TUbq+WAWuKzPRmYJCL7VXUw/DjXoIgod64syBdRKm1ifclXnOIjIgDLB+ZZBuq2TnMB9q+N0SImKEqmyDUxrrcZNz4O3H33YlJSrd0fH2/verYuyJexNmb7+ptLCbplghKRNSLyjojHNxcTElmpyJ58eV7bRLJzPMGqAsePA3v2LCapu++u3T9+vL2RlK0L8mVsVrV5Q6ztyTOsaZGEiPwWgAkAPwHQCeC/qerT9a99X1UvLyXKukoVSdh2GGGRRRt5XttEcYkHBS2NSSkwMgJ84Qt+9d7t2NkBxfK/E4FgYceCM8/RLluLV+KKJFqNoP4YwBWqOgDgUwAeEJFbg2vmHCM1Yrk0lUiklowa+ZacgHLWxmxef3OleCXQKkGtUNWjAKCqTwG4DsCYiGwDIj4iEJGTghFUo8Y1KV+UsTZm6/obYHfyjNIqQZ1sXH+qJ6trAdwC4D1Zn1xErheRF0XkJRH5w6zXowor6hwox9eXkmic3hsZARYWav9tXJPyRRlrY7auvwF2J88ordag3gvg31X1pdDjnQB+S1XbXlkTkRUA/gXAVgCzAJ4GcIeqvhD3M5Vag7JNkWtieVw7SXJq5502yfqSB2tQ4+O1gohgWi9IWmvXtl/JR3YqYnNyVnFrUK0S1DsB/KKqfjf0+K8D+LGq/jBDQFcDGFfV36zf/yMAUNU/jfsZJihHmCjwaJWg2n3uJMnHtoKWNqku/XXD94mK0m6RxASAqFrf0/WvZfF2AC833J+tP0aus+2Y+KKLSzwpaAknoyomp6g9QnluYKZ0WiWoflV9Lvygqk4B6M/43FH//Jf91YvIsIhMicjU3NxcxqckIooWtUfoU18axg2fW0xSWTcwUzqtEtTKJl9blfG5ZwFc0nC/F8CPw9+kqntVdVBVB3t6ejI+JRFRtKgNtvNyCo+cHcttAzOl0ypBPS0ivx1+UETuArA/43M/DeBdInKpiPwcgP8M4MGM16SqKuocKJ4vVRmxe4G6j2DPHqCjY7HS0cc9YjZq1c18FMBXRGQIiwlpEMDPAfhYlidW1bMi8hkAjwBYAeCvVfX5LNekCitqvcexdSRqX+yJs2v70Ji6ikpONlbXmdZ0BKWq/6qq7wewE8BM/bZTVa9W1VezPrmqPqSqv6yq71BVOwvxfVT03h6OOshBcXuENryy9K2piL1hrvXIK0vTBCUiK0VkFMBtAN4E8Jequq+UyKgtiSqOiq6y86SqjaolvMG2r3s9fv3f9uKRPxsqfAOzzQ1mTWo1xXc/gHkA3wFwA4ANqE37kYW42ZIom/ABhuPjwLsb1pyCfoVr1+Y7zedaj7yytEpQl6nqJgAQkfsAPFV8SNSOxiMTgNr/SI3ta7jpknxR5obi8fGl1w+SVN7PF7v+ZWmPvLK0quKbD/6gqmcLjoUyCP7HCaYgWHFEPsr7YMUkytjA7FqPvLK0SlDvFZHX67eTADYHfxYRLihYpipHJlA1FXGwoi1sbjBrUtNefLZhL77mEh8650nvOKqeqhysWDXt9uIjR6Q6MsGRKjv2QKMwzhJUCxOUJ0RqlUUjoYqjkZH8K47K0M5aAxOa/6pysCLVMEF5ZHx86afJIEm5VmLezlqDicVzKleVDlakmlZl5uQYH45MaJzG2bNncb0hbq2BJfbVEDdLALg5S0CtsUiCrKVaK5cPLCzEvwlx8bw6eLCif1gkQU5Ju9bAxfPqrMH5MEtAyTBBkXXaWWuo+uI51+DIR0xQZJ20FYntJrRm913i8wZWqjYWSZCV0vRAS7t47ltT3bRFJUSuYJEEeSPJ4nl4tBWu+HP5DT1NUQmRTVgkQd5Lsnjua1Pdqq/BkZ+YoKhyfKv44wZW8hUTFFWOb6MN39pcEQVYJEGV0mwNCnB3JFXWwXpEZWKCokrxuV0ON7CSb1jFR5XEdjlE9mAVH1ED20YbPm0cJsoLExSRYWxTRBTNSIISkf8kIs+LyIKILBvWEVUF2xQRxTNVJHEQwK0A/qeh5yeyAtsUEcUzMoJS1UOq+qKJ5yayTVEbh7mulR1fQ7OsX4MSkWERmRKRqbm5OdPhEOWuiI3DXNfKjq+heYUlKBF5VEQORtxuSXMdVd2rqoOqOtjT01NUuERGFNGmiOta2fE1tENha1Cq+uGirk3kiyI2DidZ1+I+sOa4NmgHoxt1ReTbAD6rqol233KjLvmqiIQRd/xGHudhVSXB8QiTcli1UVdEPiYiswCuBvAPIvKIiTiIbJH3xuG4da2FhexTV1VZm/GtqbCTVNWZ2xVXXKHktoWF5vcpu4UF1ZERVaD23/D9c+cW7we34PuyXtuXv8+q/J62ADClEe/5bBZLuWk17ePbUesB26a7Wq1rdXTU7gfrKkDydZWqrM343FTYKVFZy9YbR1D22rFj6SfL4BPnjh1L7/v2ibTV721S3Gi18bVPO4JqvFbjz7v699cKR/zlQMwIyvp9UGQ/TVCS6+NR60l+b5Oi1rUaY2y3rD24RqM812bC10kaU9qfScK2psKVE5W1bL1xBGWvpJ/KffvkncdopGxZRn1Fj4TjYrvnnuVx5PH7kB0QM4IynnTS3Jig7NYq+bj4Zp6Ei0k3y9RVUQmhWfIbGKgVd4Sfz9ep46phgqJCtUo+vr6RlJF0bVwHKSqmqNdzYKD5vxtfP/hUCRMUFSZp8jE5FVPEG2oZSbeK01fhEWmSsngXR7G0KC5BscycMmtWktvdvbiwPD6+dCd+8H1FLzwXVd5edCmyNhRhALVrNxY4qMPdG8KxB/eDv5tG27cDu3fHl8VH/czdd7tbfEMNorKWrTeOoOwW/tR6zz3mP/2XMcopcgrOx+mrZoUQzdagol4DX6eOqwac4qMy2fTG4fqbvE/TV63+XYQ/1Jw713oNqorToL5hgqLS2ZQYXH2Tt+k1zEuSgppGSUbiNhaSUHJxCcpoN/O02M3cParmu0Frw+bUgAsbhBvjDuIN37c5/mbS/rvQmDUr8oNV3cypGoI32EZld4MOv8nncSBgWeKKMEZG3O4H186/C3Z0qCZW8VFbWn2ibfbpHyjv03+aSjsbP6WPjy+No6zKx6LY8u+C3MAERaklKdsuowQ7aTJJ8iYf/p0WFmrlzcHvZDJZ+TR6YJdwSoMJilLRFHtz2vn0nyTxtLOvqdmbfPh36u4GHnwQmJ5enBZsTFaUjW+jQioOExSlkvY8oDSf/pMknjQJst3fKTAwUNsgun27H5tjbeLTqJAKFFXaZ+uNZeb2yLtsO82+qaJKr8O/k0+l3bZieTipxpeZs4qPUiuiOi/NeVGNI55A1imiqN8pz+v7Jvx33c7f/fj40n83wd8Bp1EpwARFqRRZtp008eSdIMO/07lztem9vK7vmzwSS+NUrY2HPZIduAZFqRRZhRWXeKIag+ZZptz4OwVrTtPTtSR1883AiRMsgw7ktQaYdi2TKipq3s/WG9eg7JH32kGaNaiieq8FB+IF1z97Nt/r+yLPNUBXW1BRvsBWR2S7NOXj4U/qST+5J31um/ZB2UhzaGHVOBoOcARVTWx1RNYbH1/65hRMA0WtbeRZphy1HhKUlgfrIXzDXJTHGmCRa5nkDyNrUCLyeQA3AXgTwA8BfEpVj5uIhexiYn8M10OSy2sNkB0lKAkjU3wi8hEA+1T1rIj8DwBQ1T9o9XNRU3zz8/OYnZ3FmTNnigk2BytXrkRvby86OztNh0J1UVOEgPnO60nlPcWZRp4nFJv8PcgecVN8RkZQqvrNhrtPAri93WvNzs6iq6sL/f39EAv/Zasqjh07htnZWVx66aWmwyFEv8GOjgLf+97S77P12PBWCSLrm36rn8+zVRE7SlAzNqxB3QngG3FfFJFhEZkSkam5ubllXz9z5gzWrVtnZXICABHBunXrrB7hVUnUetPoKHDvvbUEtW2b3eshrfYP7diRbY9S0j1OTCxUiqjSvjxuAB4FcDDidkvD94wB+ArqU42tblFl5i+88EIeVY6FcyVOm+VV2h5VJn3VVarbtmUvXS+jdU9cmffZs4uPb9tWK5tvvN8qljSl/kR5gm1l5iLySQCfBrBFVU8l+ZmoNahDhw5hw4YNBUSYL1fitFWe6x5AdJk0kG1qLO8YmwnHf889tQ3Fu3cD73//0unKbdtq//2FX2gdB0u/yQSrysxF5HoAfwDg5qTJyWZ33nknLrroImzcuNF0KF5qNa2V9jNWXJl0WNp1m7Ja90TF/+CDi8995ZXLv//ee5PFUUSfQ6K2RQ2rir4BeAnAywCm67e/SvJzmaf4urqWzosEt66u5NeI8Pjjj+v+/fv1Pe95T+z3cIovm7y6FxQ5jVVUl/Wk8V94YfQ/76RTfGX9DkRhsKmbuaq+U1UvUdWB+u3TpTzxyZPpHk/ommuuwQUXXJDpGtRcXp/s4/bfjIxk33+TNcbw6CZIEWHh+HfvrvUNfO219uJufD5uniWbsFksOSFuWq6dJFXUia5ZYoxav7r66trXnnhi+ZpW4zU7OoCpKWBwsNbkNkq4hD4KN8+SdaKGVbbeMk/xxc1/AMmvEeNHP/oRp/gK4kJ1WZYYo75327bl03NpDnBs/Nnf+710rxUPEaSyIWaKjyMosp4Ln+yTxtg4cmu8H9VqKai+u/fe2g2IP8Cxu7s2zdc4ghoYWKwg7OhI/lpxjxNZIypr2XrjCKraXPhk3yzGVseERB09keQ4imYjsOC+ja8VUQA2FUkY09WV7vGE7rjjDlx99dV48cUX0dvbi/vuuy/T9SiaC5/s42LUFmXoCwvL169GR2u3RlHFCiKLByzu3r04IgtGVCJ2vlZELUVlLVtv7CRBZShqpBZXwt3Y8SHrGpSta3REzcC2ThLtYCcJKlrR3SA0ooOFSPoqvqgDHNkBglxlVScJIhu1mobL+lkuuF6j4HmiDmt84onF5BQ81uwAR3aAIN8wQRHVNW7a3bOnNtJpPJgv66m9rTbBRq1fJV13a5b8msXU7D6RaUxQRA2KGokU2cEiSfILS3qsBpFJ3AdF1CBuJJJHkiqqg0VUFd/u3cDjjy9W8TVqnMoElh7bPjKSvos7UVE4giKqa2ckklYRpfKqiyXl27fX7m/fvpi0osrSi5rKJMpT5UZQ4U+HeXxafPnll/GJT3wCr776Kjo6OjA8PIyRkZFsF6XSudCxIkpcJ4pmCSf4mcaqPyYnsk2lysyLKiE+evQojh49issvvxwnT57EFVdcga9+9au47LLL2oqTzCriQ0wZ4krY476XZelki8qXmRdZQnzxxRfj8ssvBwB0dXVhw4YNeOWVV3KKnMrmQseKsDRVfGVMZRLloTJTfO1Mg7RjZmYGzzzzDK666qp8LkjUQjjhNBY9qAITE8ub1bo4lUnVU5kEBRQ/7/7GG2/gtttuw8TEBNasWZPPRYlaiEs4Tz659Byo8JR2ERWFRHmqzBQf0N5mxqTm5+dx2223YWhoCLfeemv2CxKlEO5EAQBXXVVLUHFT2i5OZVK1VCZBFTnvrqq46667sGHDBmzfvj2/oIlSCJ8RNTHBUnJyW2USVJE7+b/73e/igQcewL59+zAwMICBgQE89NBD+QVPFJKkTRH785HrKrUGVdS8+wc/+EG4VK5Pbku6XaLIrhhEZajMCCrAeXdyWdLtEiwlJx9UagRF5Lqk2yVYSk4+qFQnCZNciZPckLRrhKtdMaharOokISJ/IiLPici0iHxTRP6DiTiIXJRmuwSntMllptagPq+qm1V1AMDXAdxjKA4ip3BtiarEyBqUqr7ecPfnAfB/K6IEuLZEVWKsSEJEdgH4BIATAK5r8n3DAIYBoK+vr5zgUjpz5gyuueYa/OxnP8PZs2dx++23Y+fOnabDIk+xTRFVRWFTfCLyqIgcjLjdAgCqOqaqlwCYBPCZuOuo6l5VHVTVwZ6ensxxTR6YRP9EPzp2dqB/oh+TByYzX/O8887Dvn378Oyzz2J6ehoPP/wwnnzyyczXJYrDtSWqgsJGUKr64YTf+n8A/AOAHUXFEpg8MInhrw3j1PwpAMDhE4cx/LVhAMDQpqG2rysiOP/88wHUevLNz89D+I5BRJSJqSq+dzXcvRnAD8p43rHHxt5KToFT86cw9thY5mufO3cOAwMDuOiii7B161Yet+GoJC2EiKgcpqr4/nt9uu85AB8BUMr56EdOHEn1eBorVqzA9PQ0Zmdn8dRTT+HgwYOZr0nlGh9fWgkXVMxlOW2ZiNpnJEGp6m2qurFean6TqpZy/Gxfd3SRRdzj7Vi7di2uvfZaPPzww7ldk4pX5InLRNSeSvXi27VlF1Z3rl7y2OrO1di1ZVem687NzeH48eMAgNOnT+PRRx/Fu9/97kzXpHI1drfn8RREdqhUghraNIS9N+3F+u71EAjWd6/H3pv2ZiqQAICjR4/iuuuuw+bNm/G+970PW7duxY033phT1FQWHk9BZJfKNYsd2jSUOSGFbd68Gc8880yu16Ty8XgKIrtUagRFFIcthIjsU7kRFFEUthAiso8XCUpVrd4Y69KRJlXGFkJEdnF+im/lypU4duyYtUlAVXHs2DGsXLnSdCiUAFsIEdnD+RFUb28vZmdnMTc3ZzqUWCtXrkRvb6/pMIiInOJ8gurs7MSll15qOgwiIsqZ81N8RETkJyYoIiKyEhMUERFZSWytfosiInMADhf8NBcCeK3g5/AZX7/28bXLhq9fNiZfv/WquuxEWqcSVBlEZEpVB03H4Sq+fu3ja5cNX79sbHz9OMVHRERWYoIiIiIrMUEtt9d0AI7j69c+vnbZ8PXLxrrXj2tQRERkJY6giIjISkxQRERkJSaoJkTksyKiInKh6VhcIiKfF5EfiMhzIvIVEVlrOibbicj1IvKiiLwkIn9oOh6XiMglIvKPInJIRJ4XkRHTMblGRFaIyDMi8nXTsTRigoohIpcA2ArgiOlYHPQtABtVdTOAfwHwR4bjsZqIrADwFwBuAHAZgDtE5DKzUTnlLIDfV9UNAH4NwO/y9UttBMAh00GEMUHF+wKAzwFgFUlKqvpNVT1bv/skAJ410tyVAF5S1f+nqm8C+BsAtxiOyRmqelRVv1//80nU3mjfbjYqd4hIL4D/COB/mY4ljAkqgojcDOAVVX3WdCweuBPAN0wHYbm3A3i54f4s+AbbFhHpB/CrAL5nNhKnTKD2YXzBdCBhzp8H1S4ReRTAL0V8aQzAHwP4SLkRuaXZ66eqf1//njHUpl8my4zNQVHn9nLknpKInA/gSwBGVfV10/G4QERuBPATVd0vItugWL8AAAIrSURBVNeajiessglKVT8c9biIbAJwKYBnpXbedy+A74vIlar6aokhWi3u9QuIyCcB3Ahgi3KzXSuzAC5puN8L4MeGYnGSiHSilpwmVfXLpuNxyAcA3CwiHwWwEsAaEfmiqv5Xw3EB4EbdlkRkBsCgqrJLckIicj2A3QB+Q1XnTMdjOxF5G2rFJFsAvALgaQD/RVWfNxqYI6T2SfJ+AD9V1VHT8biqPoL6rKreaDqWANegqAh/DqALwLdEZFpE/sp0QDarF5R8BsAjqC3w/y2TUyofAPBxAB+q/3ubro8IyHEcQRERkZU4giIiIisxQRERkZWYoIiIyEpMUEREZCUmKCIishITFJEBInKuXg59UET+TkRW1x//JRH5GxH5oYi8ICIPicgv17/2sIgct63jNFFRmKCIzDitqgOquhHAmwA+Xd9w+hUA31bVd6jqZai13frF+s98HrX9PkSVwARFZN53ALwTwHUA5lX1rY3Nqjqtqt+p//kxACfNhEhUPiYoIoPqbY5uAHAAwEYA+81GRGQPJigiM1aJyDSAKdQOxbzPcDxE1qlsN3Miw06r6kDjAyLyPIDbDcVDZB2OoIjssQ/AeSLy28EDIvI+EfkNgzERGcMERWSJ+rlZHwOwtV5m/jyAcdTPhhKR7wD4OwBbRGRWRH7TWLBEJWA3cyIishJHUEREZCUmKCIishITFBERWYkJioiIrMQERUREVmKCIiIiKzFBERGRlf4/1zmLohrcLqsAAAAASUVORK5CYII=)"
   ]
  },
  {
   "cell_type": "markdown",
   "metadata": {},
   "source": [
    "### 사이킷런의 LDA"
   ]
  },
  {
   "cell_type": "code",
   "execution_count": 14,
   "metadata": {},
   "outputs": [],
   "source": [
    "from sklearn.discriminant_analysis import LinearDiscriminantAnalysis as LDA\n",
    "\n",
    "lda = LDA(n_components = 2)\n",
    "x_train_lda = lda.fit_transform(X_train_std, y_train)"
   ]
  },
  {
   "cell_type": "code",
   "execution_count": 16,
   "metadata": {},
   "outputs": [],
   "source": [
    "from sklearn.linear_model import LogisticRegression"
   ]
  },
  {
   "cell_type": "code",
   "execution_count": 17,
   "metadata": {},
   "outputs": [],
   "source": [
    "from matplotlib.colors import ListedColormap\n",
    "\n",
    "def plot_decision_regions(X, y, classifier, resolution = 0.02):\n",
    "    \n",
    "    markers = ('s', 'x', 'o', '^', 'v')\n",
    "    colors = ('red', 'blue', 'lightgreen', 'gray', 'cyan')\n",
    "    cmap = ListedColormap(colors[:len(np.unique(y))])\n",
    "    \n",
    "    x1_min, x1_max = X[:, 0].min() - 1, X[:,0].max() + 1\n",
    "    x2_min, x2_max = X[:, 1].min() - 1, X[:,1].max() + 1\n",
    "    \n",
    "    xx1, xx2 = np.meshgrid(np.arange(x1_min, x1_max, resolution),\n",
    "                          np.arange(x2_min, x2_max, resolution))\n",
    "    Z = classifier.predict(np.array([xx1.ravel(), xx2.ravel()]).T)\n",
    "    Z = Z.reshape(xx1.shape)\n",
    "    plt.contourf(xx1, xx2, Z, alpha = 0.3, cmap = cmap)\n",
    "    plt.xlim(xx1.min(), xx1.max())\n",
    "    plt.ylim(xx2.min(), xx2.max())\n",
    "    \n",
    "    for idx, cl in enumerate(np.unique(y)):\n",
    "        plt.scatter(x=X[y == cl, 0],\n",
    "                   y=X[y==cl, 1],\n",
    "                   alpha =0.8,\n",
    "                   c = colors[idx],\n",
    "                   marker = markers[idx],\n",
    "                   label = cl,\n",
    "                   edgecolor = 'black')"
   ]
  },
  {
   "cell_type": "code",
   "execution_count": 20,
   "metadata": {},
   "outputs": [
    {
     "data": {
      "image/png": "[encoded data removed]",
      "text/plain": [
       "<Figure size 432x288 with 1 Axes>"
      ]
     },
     "metadata": {
      "needs_background": "light"
     },
     "output_type": "display_data"
    }
   ],
   "source": [
    "lr =LogisticRegression(solver='liblinear', multi_class='auto')\n",
    "lr = lr.fit(X_train_lda, y_train)\n",
    "plot_decision_regions(X_train_lda,y_train,classifier=lr)\n",
    "plt.xlabel('LD1')\n",
    "plt.ylabel('LD2')\n",
    "plt.legend(loc='lower left')\n",
    "plt.tight_layout()\n",
    "plt.show()"
   ]
  },
  {
   "cell_type": "markdown",
   "metadata": {},
   "source": [
    "* 클래스 2의 샘플 하나를 제대로 분류하지 못했다. 규제 강도를 낮추어 로지스틱 회귀 모델이 훈련세트의 모든 샘플을 정확하게 분류하도록 결정 경계를 옮길 수 있지만 더 중요한 것은 테스트 세트의 결과이다."
   ]
  },
  {
   "cell_type": "code",
   "execution_count": 22,
   "metadata": {},
   "outputs": [
    {
     "data": {
      "image/png": "[encoded data removed]",
      "text/plain": [
       "<Figure size 432x288 with 1 Axes>"
      ]
     },
     "metadata": {
      "needs_background": "light"
     },
     "output_type": "display_data"
    }
   ],
   "source": [
    "X_test_lda = lda.transform(X_test_std)\n",
    "plot_decision_regions(-X_test_lda, y_test, classifier=lr)\n",
    "plt.xlabel('LD1')\n",
    "plt.ylabel('LD2')\n",
    "plt.legend(loc='lower left')\n",
    "plt.tight_layout()\n",
    "plt.show()"
   ]
  },
  {
   "cell_type": "code",
   "execution_count": null,
   "metadata": {},
   "outputs": [],
   "source": []
  }
 ],
 "metadata": {
  "kernelspec": {
   "display_name": "Python 3",
   "language": "python",
   "name": "python3"
  },
  "language_info": {
   "codemirror_mode": {
    "name": "ipython",
    "version": 3
   },
   "file_extension": ".py",
   "mimetype": "text/x-python",
   "name": "python",
   "nbconvert_exporter": "python",
   "pygments_lexer": "ipython3",
   "version": "3.8.3"
  }
 },
 "nbformat": 4,
 "nbformat_minor": 4
}
