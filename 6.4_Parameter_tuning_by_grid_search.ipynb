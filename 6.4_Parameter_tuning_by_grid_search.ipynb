{
 "cells": [
  {
   "cell_type": "markdown",
   "metadata": {},
   "source": [
    "### 그리드 서치를 사용한 하이퍼파라미터 튜닝\n",
    "그리드 서치가 사용하는 방법은 아주 간단하다. 리스트로 지정된 여러 가지 하이퍼파라미터 값 전체를 모두 조사하고 이 리스트에 있는 값의 모든 조합에 대해 모델 성능을 평가하여 최적의 조합을 찾는다."
   ]
  },
  {
   "cell_type": "code",
   "execution_count": 1,
   "metadata": {},
   "outputs": [],
   "source": [
    "import pandas as pd\n",
    "\n",
    "df = pd.read_csv('https://archive.ics.uci.edu/ml/machine-learning-databases'\n",
    "                '/breast-cancer-wisconsin/wdbc.data', header = None)"
   ]
  },
  {
   "cell_type": "code",
   "execution_count": 2,
   "metadata": {},
   "outputs": [
    {
     "data": {
      "text/plain": [
       "array(['B', 'M'], dtype=object)"
      ]
     },
     "execution_count": 2,
     "metadata": {},
     "output_type": "execute_result"
    }
   ],
   "source": [
    "from sklearn.preprocessing import LabelEncoder\n",
    "import numpy as np\n",
    "\n",
    "X = df.loc[:,2:].values\n",
    "y = df.loc[:,1].values\n",
    "le = LabelEncoder()\n",
    "y = le.fit_transform(y)\n",
    "le.classes_"
   ]
  },
  {
   "cell_type": "code",
   "execution_count": 3,
   "metadata": {},
   "outputs": [
    {
     "data": {
      "text/plain": [
       "(569, 30)"
      ]
     },
     "execution_count": 3,
     "metadata": {},
     "output_type": "execute_result"
    }
   ],
   "source": [
    "from sklearn.model_selection import train_test_split\n",
    "\n",
    "X_train, X_test, y_train, y_test = train_test_split(X, y, test_size = 0.2,\n",
    "                                                   stratify = y, random_state = 1)\n",
    "X.shape"
   ]
  },
  {
   "cell_type": "code",
   "execution_count": 4,
   "metadata": {},
   "outputs": [],
   "source": [
    "from sklearn.preprocessing import StandardScaler\n",
    "from sklearn.decomposition import PCA\n",
    "from sklearn.linear_model import LogisticRegression\n",
    "from sklearn.pipeline import make_pipeline\n",
    "from sklearn.model_selection import learning_curve\n",
    "import matplotlib.pyplot as plt"
   ]
  },
  {
   "cell_type": "code",
   "execution_count": 5,
   "metadata": {},
   "outputs": [
    {
     "name": "stdout",
     "output_type": "stream",
     "text": [
      "0.9846859903381642\n",
      "{'svc__C': 100.0, 'svc__gamma': 0.001, 'svc__kernel': 'rbf'}\n"
     ]
    }
   ],
   "source": [
    "from sklearn.model_selection import GridSearchCV\n",
    "from sklearn.svm import SVC\n",
    "\n",
    "pipe_svc = make_pipeline(StandardScaler(),\n",
    "                        SVC(random_state=1))\n",
    "param_range = [0.0001, 0.001, 0.01, 0.1, 1.0, 10.0, 100.0, 1000.0]\n",
    "param_grid = [{'svc__C' : param_range,\n",
    "              'svc__kernel' : ['linear']},\n",
    "             {'svc__C' : param_range,\n",
    "             'svc__gamma' : param_range,\n",
    "             'svc__kernel' : ['rbf']}]\n",
    "\n",
    "gs = GridSearchCV(estimator = pipe_svc,\n",
    "                 param_grid = param_grid,\n",
    "                 scoring = 'accuracy',\n",
    "                 cv = 10,\n",
    "                 n_jobs = -1)\n",
    "\n",
    "gs = gs.fit(X_train, y_train)\n",
    "print(gs.best_score_)\n",
    "print(gs.best_params_)"
   ]
  },
  {
   "cell_type": "code",
   "execution_count": 6,
   "metadata": {},
   "outputs": [
    {
     "name": "stdout",
     "output_type": "stream",
     "text": [
      "0.9736842105263158\n"
     ]
    }
   ],
   "source": [
    "clf= gs.best_estimator_\n",
    "clf.fit(X_train, y_train)\n",
    "print(clf.score(X_test, y_test))"
   ]
  },
  {
   "cell_type": "markdown",
   "metadata": {},
   "source": [
    "* 강력한 도구이지만 계산 비용이 매우 많이 든다는 단점이 있다. (해결법 : RandomizedSearchCV)"
   ]
  },
  {
   "cell_type": "markdown",
   "metadata": {},
   "source": [
    "### 중첩 교차 검증을 사용한 알고리즘 선택"
   ]
  },
  {
   "cell_type": "code",
   "execution_count": 9,
   "metadata": {},
   "outputs": [
    {
     "name": "stdout",
     "output_type": "stream",
     "text": [
      "0.9736263736263737 0.014906219743132467\n",
      "0.9736359069479867 {'svc__C': 100.0, 'svc__gamma': 0.01, 'svc__kernel': 'rbf'}\n"
     ]
    }
   ],
   "source": [
    "from sklearn.model_selection import cross_val_score\n",
    "gs = GridSearchCV(estimator = pipe_svc,\n",
    "                 param_grid = param_grid,\n",
    "                 scoring = 'accuracy',\n",
    "                 cv = 2)\n",
    "\n",
    "scores = cross_val_score(gs, X_train, y_train,\n",
    "                        scoring = 'accuracy',\n",
    "                        cv = 5)\n",
    "gs = gs.fit(X_train, y_train)\n",
    "print(np.mean(scores), np.std(scores))\n",
    "print(gs.best_score_, gs.best_params_)"
   ]
  },
  {
   "cell_type": "markdown",
   "metadata": {},
   "source": [
    "## 여러가지 성능 평가 지표\n",
    "* 정밀도(precision)\n",
    "* 재현율(recall)\n",
    "* F1-score\n",
    "\n",
    "### 오차행렬\n",
    "![텍스트](data:image/png;base64,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)"
   ]
  },
  {
   "cell_type": "code",
   "execution_count": 10,
   "metadata": {},
   "outputs": [
    {
     "name": "stdout",
     "output_type": "stream",
     "text": [
      "[[71  1]\n",
      " [ 2 40]]\n"
     ]
    }
   ],
   "source": [
    "from sklearn.metrics import confusion_matrix\n",
    "\n",
    "pipe_svc.fit(X_train, y_train)\n",
    "y_pred = pipe_svc.predict(X_test)\n",
    "confmat = confusion_matrix(y_true = y_test, y_pred = y_pred)\n",
    "print(confmat)"
   ]
  },
  {
   "cell_type": "code",
   "execution_count": 11,
   "metadata": {},
   "outputs": [
    {
     "data": {
      "image/png": "[encoded data removed]",
      "text/plain": [
       "<Figure size 180x180 with 1 Axes>"
      ]
     },
     "metadata": {
      "needs_background": "light"
     },
     "output_type": "display_data"
    }
   ],
   "source": [
    "fig, ax = plt.subplots(figsize = (2.5,2.5))\n",
    "ax.matshow(confmat, cmap = plt.cm.Blues, alpha=0.3)\n",
    "for i in range(confmat.shape[0]):\n",
    "    for j in range(confmat.shape[1]):\n",
    "        ax.text(x=j,y=i,s=confmat[i,j],va='center',ha='center')\n",
    "plt.xlabel('predicted label')\n",
    "plt.ylabel('true label')\n",
    "plt.tight_layout()\n",
    "plt.show()"
   ]
  },
  {
   "cell_type": "markdown",
   "metadata": {},
   "source": [
    "### 분류 모델의 정밀도와 재현율 최적화\n",
    "* 예측오차 :\n",
    "$$ ERR = \\frac{FP+FN}{FP+FN+TP+TN} $$\n",
    "* 예측정확도 :\n",
    "$$ ACC = 1 - ERR $$\n",
    "* 정확도 :\n",
    "$$ PRE =\\frac{TP}{TP+FP} $$\n",
    "* 재현율 :\n",
    "$$ REC = \\frac{TP}{FN+TP} $$\n",
    "* F1-score :\n",
    "$$ F1 = 2\\frac{PRE*REC}{PRE+REC} $$"
   ]
  },
  {
   "cell_type": "code",
   "execution_count": 12,
   "metadata": {},
   "outputs": [
    {
     "name": "stdout",
     "output_type": "stream",
     "text": [
      "0.975609756097561\n",
      "0.9523809523809523\n",
      "0.963855421686747\n"
     ]
    }
   ],
   "source": [
    "from sklearn.metrics import precision_score\n",
    "from sklearn.metrics import recall_score, f1_score\n",
    "\n",
    "print(precision_score(y_test,y_pred))\n",
    "print(recall_score(y_test,y_pred))\n",
    "print(f1_score(y_test,y_pred))"
   ]
  },
  {
   "cell_type": "code",
   "execution_count": 13,
   "metadata": {},
   "outputs": [],
   "source": [
    "from sklearn.metrics import make_scorer\n",
    "scorer = make_scorer(f1_score, pos_label = 0)\n",
    "# 이런식으로 scoring을 정확도 대신 다른 성능 지표를 사용할 수 있다"
   ]
  },
  {
   "cell_type": "markdown",
   "metadata": {},
   "source": [
    "### ROC 곡선 그리기"
   ]
  },
  {
   "cell_type": "code",
   "execution_count": null,
   "metadata": {},
   "outputs": [],
   "source": [
    "from sklearn.metrics import roc_curve, auc\n",
    "from scipy import interp\n",
    "\n",
    "pipe_lr = make_pipeline(StandardScaler(),\n",
    "                       PCA(n_components=2),\n",
    "                       LogisticRegression(solver='liblinear',\n",
    "                                         penalty='l2',\n",
    "                                         random_state=1,\n",
    "                                         c=100.0))\n",
    "\n",
    "X_train2 = X_train[:,[4,14]]\n",
    "\n",
    "cv = list(StratifiedKFold(n_splits=3,random_state=1).split(X_train,y_train))\n",
    "\n",
    "fig = plt.figure(figsize=(7,5))\n",
    "\n",
    "mean_tpr =0.0\n",
    "mean_fpr = np.linspace(0,1,100)\n",
    "all_tpr = []\n",
    "\n"
   ]
  },
  {
   "cell_type": "markdown",
   "metadata": {},
   "source": [
    "### 불균형한 클래스 다루기"
   ]
  },
  {
   "cell_type": "code",
   "execution_count": null,
   "metadata": {},
   "outputs": [],
   "source": []
  }
 ],
 "metadata": {
  "kernelspec": {
   "display_name": "Python 3",
   "language": "python",
   "name": "python3"
  },
  "language_info": {
   "codemirror_mode": {
    "name": "ipython",
    "version": 3
   },
   "file_extension": ".py",
   "mimetype": "text/x-python",
   "name": "python",
   "nbconvert_exporter": "python",
   "pygments_lexer": "ipython3",
   "version": "3.8.3"
  }
 },
 "nbformat": 4,
 "nbformat_minor": 4
}
